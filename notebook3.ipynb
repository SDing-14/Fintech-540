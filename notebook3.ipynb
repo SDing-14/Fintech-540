{
 "cells": [
  {
   "cell_type": "code",
   "execution_count": 38,
   "metadata": {},
   "outputs": [
    {
     "name": "stdout",
     "output_type": "stream",
     "text": [
      "[*********************100%%**********************]  1 of 1 completed\n",
      "[*********************100%%**********************]  1 of 1 completed\n",
      "[*********************100%%**********************]  1 of 1 completed\n"
     ]
    }
   ],
   "source": [
    "import yfinance as yf\n",
    "\n",
    "# Symbols\n",
    "gold_symbol = \"GC=F\" \n",
    "treasury_symbol = \"^TNX\"\n",
    "currency_symbol = \"EURUSD=X\"\n",
    "\n",
    "# Define the date range\n",
    "start_date = \"2022-11-21\"\n",
    "end_date = \"2023-11-08\"\n",
    "\n",
    "# Fetch the historical data for gold\n",
    "gold_data = yf.download(gold_symbol, start=start_date, end=end_date, interval='1d')\n",
    "treasury_data = yf.download(treasury_symbol, start=start_date, end=end_date, interval='1d')\n",
    "currency_data = yf.download(currency_symbol, start=start_date, end=end_date, interval='1d')"
   ]
  },
  {
   "cell_type": "code",
   "execution_count": 39,
   "metadata": {},
   "outputs": [],
   "source": [
    "import pandas as pd\n",
    "\n",
    "file_path = 'Data/VIX.csv'  # Replace with your file path\n",
    "\n",
    "# Read the CSV file\n",
    "VIX_data = pd.read_csv(file_path)"
   ]
  },
  {
   "cell_type": "code",
   "execution_count": 40,
   "metadata": {},
   "outputs": [],
   "source": [
    "def create_intervals(date):\n",
    "    return pd.date_range(start=f'{date} 09:30', end=f'{date} 16:00', freq='5T')"
   ]
  },
  {
   "cell_type": "code",
   "execution_count": 41,
   "metadata": {},
   "outputs": [],
   "source": [
    "def expand_df(df):\n",
    "    df = df.reset_index()\n",
    "    df['Date'] = pd.to_datetime(df['Date'])\n",
    "    # Apply this function to each date in your DataFrame\n",
    "    all_intervals = [create_intervals(date) for date in df['Date'].unique()]\n",
    "    flattened_intervals = [time for sublist in all_intervals for time in sublist]\n",
    "    # Create a new DataFrame for these intervals\n",
    "    interval_df = pd.DataFrame({'DateTime': flattened_intervals})\n",
    "\n",
    "    # Merge with the original DataFrame\n",
    "    df['Date'] = df['Date'].dt.date\n",
    "    interval_df['Date'] = interval_df['DateTime'].dt.date\n",
    "    merged_df = pd.merge(interval_df, df, on='Date', how='left')\n",
    "    return merged_df"
   ]
  },
  {
   "cell_type": "code",
   "execution_count": 42,
   "metadata": {},
   "outputs": [],
   "source": [
    "VIX_data = expand_df(VIX_data)\n",
    "gold_data = expand_df(gold_data)\n",
    "treasury_data = expand_df(treasury_data)\n",
    "currency_data = expand_df(currency_data)"
   ]
  }
 ],
 "metadata": {
  "kernelspec": {
   "display_name": "Python 3",
   "language": "python",
   "name": "python3"
  },
  "language_info": {
   "codemirror_mode": {
    "name": "ipython",
    "version": 3
   },
   "file_extension": ".py",
   "mimetype": "text/x-python",
   "name": "python",
   "nbconvert_exporter": "python",
   "pygments_lexer": "ipython3",
   "version": "3.8.18"
  }
 },
 "nbformat": 4,
 "nbformat_minor": 2
}
