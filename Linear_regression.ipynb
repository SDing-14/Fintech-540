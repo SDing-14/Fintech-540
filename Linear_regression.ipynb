{
 "cells": [
  {
   "cell_type": "code",
   "execution_count": 13,
   "id": "0355fbaa",
   "metadata": {},
   "outputs": [
    {
     "name": "stdout",
     "output_type": "stream",
     "text": [
      "Mean Squared Error: 1.4009436075889294e-07\n",
      "Number of PCA Components: 79\n",
      "R_squared: 0.5307014416166755\n"
     ]
    }
   ],
   "source": [
    "\n",
    "import pandas as pd\n",
    "from sklearn.model_selection import train_test_split\n",
    "from sklearn.linear_model import LinearRegression\n",
    "from sklearn.metrics import mean_squared_error\n",
    "from sklearn.decomposition import PCA\n",
    "from sklearn.preprocessing import StandardScaler\n",
    "import numpy as np\n",
    "\n",
    "\n",
    "data = pd.read_csv('combined_dataset.csv')\n",
    "\n",
    "# Sort the dataset by date and split the dataset\n",
    "data_sorted = data.sort_values(by='Local Date')\n",
    "split_index = int(len(data_sorted) * 0.7)\n",
    "train_data = data_sorted.iloc[:split_index]\n",
    "test_data = data_sorted.iloc[split_index:]\n",
    "\n",
    "\n",
    "Y_train = train_data['NASDAQ_Volatility']\n",
    "X_train = train_data.select_dtypes(include=[np.number]).drop(columns=['NASDAQ_Volatility'])\n",
    "\n",
    "Y_test = test_data['NASDAQ_Volatility']\n",
    "X_test = test_data.select_dtypes(include=[np.number]).drop(columns=['NASDAQ_Volatility'])\n",
    "\n",
    "# Standardizing the features\n",
    "scaler = StandardScaler()\n",
    "X_train_scaled = scaler.fit_transform(X_train)\n",
    "X_test_scaled = scaler.transform(X_test)\n",
    "\n",
    "# Applying PCA for dimensionality reduction\n",
    "pca = PCA(n_components=0.95)\n",
    "X_train_pca = pca.fit_transform(X_train_scaled)\n",
    "X_test_pca = pca.transform(X_test_scaled)\n",
    "\n",
    "model = LinearRegression()\n",
    "model.fit(X_train_pca, Y_train)\n",
    "\n",
    "Y_pred = model.predict(X_test_pca)\n",
    "\n",
    "\n",
    "mse = mean_squared_error(Y_test, Y_pred)\n",
    "n_components = pca.n_components_\n",
    "r_squared = model.score(X_test_pca, Y_test)\n",
    "\n",
    "print(\"Mean Squared Error:\", mse)\n",
    "print(\"Number of PCA Components:\", n_components)\n",
    "print(\"R_squared:\", r_squared)\n"
   ]
  },
  {
   "cell_type": "code",
   "execution_count": null,
   "id": "5cca438c",
   "metadata": {},
   "outputs": [],
   "source": []
  }
 ],
 "metadata": {
  "kernelspec": {
   "display_name": "Python 3 (ipykernel)",
   "language": "python",
   "name": "python3"
  },
  "language_info": {
   "codemirror_mode": {
    "name": "ipython",
    "version": 3
   },
   "file_extension": ".py",
   "mimetype": "text/x-python",
   "name": "python",
   "nbconvert_exporter": "python",
   "pygments_lexer": "ipython3",
   "version": "3.10.9"
  }
 },
 "nbformat": 4,
 "nbformat_minor": 5
}
