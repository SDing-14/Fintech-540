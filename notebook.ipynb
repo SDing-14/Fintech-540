{
 "cells": [
  {
   "cell_type": "code",
   "execution_count": 180,
   "metadata": {},
   "outputs": [
    {
     "name": "stdout",
     "output_type": "stream",
     "text": [
      "Requirement already satisfied: pandas-market-calendars in /Library/Frameworks/Python.framework/Versions/3.11/lib/python3.11/site-packages (4.3.1)\n",
      "Requirement already satisfied: pandas>=1.1 in /Library/Frameworks/Python.framework/Versions/3.11/lib/python3.11/site-packages (from pandas-market-calendars) (2.1.3)\n",
      "Requirement already satisfied: pytz in /Library/Frameworks/Python.framework/Versions/3.11/lib/python3.11/site-packages (from pandas-market-calendars) (2023.3.post1)\n",
      "Requirement already satisfied: python-dateutil in /Users/xinyangding/Library/Python/3.11/lib/python/site-packages (from pandas-market-calendars) (2.8.2)\n",
      "Requirement already satisfied: exchange-calendars>=3.3 in /Library/Frameworks/Python.framework/Versions/3.11/lib/python3.11/site-packages (from pandas-market-calendars) (4.5)\n",
      "Requirement already satisfied: numpy in /Library/Frameworks/Python.framework/Versions/3.11/lib/python3.11/site-packages (from exchange-calendars>=3.3->pandas-market-calendars) (1.26.2)\n",
      "Requirement already satisfied: pyluach in /Library/Frameworks/Python.framework/Versions/3.11/lib/python3.11/site-packages (from exchange-calendars>=3.3->pandas-market-calendars) (2.2.0)\n",
      "Requirement already satisfied: toolz in /Library/Frameworks/Python.framework/Versions/3.11/lib/python3.11/site-packages (from exchange-calendars>=3.3->pandas-market-calendars) (0.12.0)\n",
      "Requirement already satisfied: tzdata in /Library/Frameworks/Python.framework/Versions/3.11/lib/python3.11/site-packages (from exchange-calendars>=3.3->pandas-market-calendars) (2023.3)\n",
      "Requirement already satisfied: korean-lunar-calendar in /Library/Frameworks/Python.framework/Versions/3.11/lib/python3.11/site-packages (from exchange-calendars>=3.3->pandas-market-calendars) (0.3.1)\n",
      "Requirement already satisfied: six>=1.5 in /Users/xinyangding/Library/Python/3.11/lib/python/site-packages (from python-dateutil->pandas-market-calendars) (1.16.0)\n",
      "\n",
      "\u001b[1m[\u001b[0m\u001b[34;49mnotice\u001b[0m\u001b[1;39;49m]\u001b[0m\u001b[39;49m A new release of pip is available: \u001b[0m\u001b[31;49m23.1.2\u001b[0m\u001b[39;49m -> \u001b[0m\u001b[32;49m23.3.1\u001b[0m\n",
      "\u001b[1m[\u001b[0m\u001b[34;49mnotice\u001b[0m\u001b[1;39;49m]\u001b[0m\u001b[39;49m To update, run: \u001b[0m\u001b[32;49mpython3 -m pip install --upgrade pip\u001b[0m\n",
      "Note: you may need to restart the kernel to use updated packages.\n"
     ]
    }
   ],
   "source": [
    "%pip install pandas-market-calendars\n",
    "import pandas as pd\n",
    "import numpy as np\n",
    "import matplotlib.pyplot as plt\n",
    "import pandas_market_calendars as mcal"
   ]
  },
  {
   "cell_type": "code",
   "execution_count": 181,
   "metadata": {},
   "outputs": [
    {
     "name": "stdout",
     "output_type": "stream",
     "text": [
      "Number of missing values in 'ColumnName': 1\n"
     ]
    },
    {
     "data": {
      "text/html": [
       "<div>\n",
       "<style scoped>\n",
       "    .dataframe tbody tr th:only-of-type {\n",
       "        vertical-align: middle;\n",
       "    }\n",
       "\n",
       "    .dataframe tbody tr th {\n",
       "        vertical-align: top;\n",
       "    }\n",
       "\n",
       "    .dataframe thead th {\n",
       "        text-align: right;\n",
       "    }\n",
       "</style>\n",
       "<table border=\"1\" class=\"dataframe\">\n",
       "  <thead>\n",
       "    <tr style=\"text-align: right;\">\n",
       "      <th></th>\n",
       "      <th>Local Time</th>\n",
       "      <th>Bid</th>\n",
       "      <th>Ask</th>\n",
       "      <th>High</th>\n",
       "      <th>Low</th>\n",
       "      <th>Open</th>\n",
       "      <th>Refresh Rate</th>\n",
       "      <th>BidNet</th>\n",
       "      <th>BTC_Log_Change</th>\n",
       "      <th>BTC_Bid_ask_spread</th>\n",
       "    </tr>\n",
       "    <tr>\n",
       "      <th>Local Date</th>\n",
       "      <th></th>\n",
       "      <th></th>\n",
       "      <th></th>\n",
       "      <th></th>\n",
       "      <th></th>\n",
       "      <th></th>\n",
       "      <th></th>\n",
       "      <th></th>\n",
       "      <th></th>\n",
       "      <th></th>\n",
       "    </tr>\n",
       "  </thead>\n",
       "  <tbody>\n",
       "    <tr>\n",
       "      <th>2023-11-08 16:00:00</th>\n",
       "      <td>2023-11-08 16:00:00</td>\n",
       "      <td>35624.00</td>\n",
       "      <td>35625.00</td>\n",
       "      <td>35634.25</td>\n",
       "      <td>35541.92</td>\n",
       "      <td>35617.65</td>\n",
       "      <td>725</td>\n",
       "      <td>13.00</td>\n",
       "      <td>NaN</td>\n",
       "      <td>1.00</td>\n",
       "    </tr>\n",
       "    <tr>\n",
       "      <th>2023-11-08 15:55:00</th>\n",
       "      <td>2023-11-08 15:55:00</td>\n",
       "      <td>35611.00</td>\n",
       "      <td>35612.00</td>\n",
       "      <td>35621.75</td>\n",
       "      <td>35541.89</td>\n",
       "      <td>35569.00</td>\n",
       "      <td>784</td>\n",
       "      <td>41.63</td>\n",
       "      <td>-0.001367</td>\n",
       "      <td>1.00</td>\n",
       "    </tr>\n",
       "    <tr>\n",
       "      <th>2023-11-08 15:50:00</th>\n",
       "      <td>2023-11-08 15:50:00</td>\n",
       "      <td>35569.37</td>\n",
       "      <td>35572.72</td>\n",
       "      <td>35614.52</td>\n",
       "      <td>35516.60</td>\n",
       "      <td>35581.00</td>\n",
       "      <td>754</td>\n",
       "      <td>-8.66</td>\n",
       "      <td>0.000337</td>\n",
       "      <td>3.35</td>\n",
       "    </tr>\n",
       "    <tr>\n",
       "      <th>2023-11-08 15:45:00</th>\n",
       "      <td>2023-11-08 15:45:00</td>\n",
       "      <td>35578.03</td>\n",
       "      <td>35581.49</td>\n",
       "      <td>35585.75</td>\n",
       "      <td>35493.69</td>\n",
       "      <td>35493.69</td>\n",
       "      <td>793</td>\n",
       "      <td>63.93</td>\n",
       "      <td>-0.002457</td>\n",
       "      <td>3.46</td>\n",
       "    </tr>\n",
       "    <tr>\n",
       "      <th>2023-11-08 15:40:00</th>\n",
       "      <td>2023-11-08 15:40:00</td>\n",
       "      <td>35514.10</td>\n",
       "      <td>35517.03</td>\n",
       "      <td>35605.19</td>\n",
       "      <td>35447.68</td>\n",
       "      <td>35591.00</td>\n",
       "      <td>970</td>\n",
       "      <td>-87.57</td>\n",
       "      <td>0.002738</td>\n",
       "      <td>2.93</td>\n",
       "    </tr>\n",
       "    <tr>\n",
       "      <th>...</th>\n",
       "      <td>...</td>\n",
       "      <td>...</td>\n",
       "      <td>...</td>\n",
       "      <td>...</td>\n",
       "      <td>...</td>\n",
       "      <td>...</td>\n",
       "      <td>...</td>\n",
       "      <td>...</td>\n",
       "      <td>...</td>\n",
       "      <td>...</td>\n",
       "    </tr>\n",
       "    <tr>\n",
       "      <th>2022-11-21 09:50:00</th>\n",
       "      <td>2022-11-21 09:50:00</td>\n",
       "      <td>16186.00</td>\n",
       "      <td>16190.00</td>\n",
       "      <td>16191.00</td>\n",
       "      <td>16152.00</td>\n",
       "      <td>16160.01</td>\n",
       "      <td>728</td>\n",
       "      <td>25.99</td>\n",
       "      <td>-0.001607</td>\n",
       "      <td>4.00</td>\n",
       "    </tr>\n",
       "    <tr>\n",
       "      <th>2022-11-21 09:45:00</th>\n",
       "      <td>2022-11-21 09:45:00</td>\n",
       "      <td>16160.01</td>\n",
       "      <td>16170.30</td>\n",
       "      <td>16175.00</td>\n",
       "      <td>16144.07</td>\n",
       "      <td>16147.00</td>\n",
       "      <td>694</td>\n",
       "      <td>13.01</td>\n",
       "      <td>-0.000805</td>\n",
       "      <td>10.29</td>\n",
       "    </tr>\n",
       "    <tr>\n",
       "      <th>2022-11-21 09:40:00</th>\n",
       "      <td>2022-11-21 09:40:00</td>\n",
       "      <td>16147.00</td>\n",
       "      <td>16150.00</td>\n",
       "      <td>16168.50</td>\n",
       "      <td>16134.44</td>\n",
       "      <td>16153.00</td>\n",
       "      <td>771</td>\n",
       "      <td>-2.59</td>\n",
       "      <td>0.000372</td>\n",
       "      <td>3.00</td>\n",
       "    </tr>\n",
       "    <tr>\n",
       "      <th>2022-11-21 09:35:00</th>\n",
       "      <td>2022-11-21 09:35:00</td>\n",
       "      <td>16149.59</td>\n",
       "      <td>16159.75</td>\n",
       "      <td>16230.50</td>\n",
       "      <td>16132.67</td>\n",
       "      <td>16186.93</td>\n",
       "      <td>956</td>\n",
       "      <td>-25.91</td>\n",
       "      <td>0.002098</td>\n",
       "      <td>10.16</td>\n",
       "    </tr>\n",
       "    <tr>\n",
       "      <th>2022-11-21 09:30:00</th>\n",
       "      <td>2022-11-21 09:30:00</td>\n",
       "      <td>16175.50</td>\n",
       "      <td>16180.00</td>\n",
       "      <td>16224.00</td>\n",
       "      <td>16173.26</td>\n",
       "      <td>16202.80</td>\n",
       "      <td>763</td>\n",
       "      <td>NaN</td>\n",
       "      <td>0.000980</td>\n",
       "      <td>4.50</td>\n",
       "    </tr>\n",
       "  </tbody>\n",
       "</table>\n",
       "<p>101432 rows × 10 columns</p>\n",
       "</div>"
      ],
      "text/plain": [
       "                             Local Time       Bid       Ask      High  \\\n",
       "Local Date                                                              \n",
       "2023-11-08 16:00:00 2023-11-08 16:00:00  35624.00  35625.00  35634.25   \n",
       "2023-11-08 15:55:00 2023-11-08 15:55:00  35611.00  35612.00  35621.75   \n",
       "2023-11-08 15:50:00 2023-11-08 15:50:00  35569.37  35572.72  35614.52   \n",
       "2023-11-08 15:45:00 2023-11-08 15:45:00  35578.03  35581.49  35585.75   \n",
       "2023-11-08 15:40:00 2023-11-08 15:40:00  35514.10  35517.03  35605.19   \n",
       "...                                 ...       ...       ...       ...   \n",
       "2022-11-21 09:50:00 2022-11-21 09:50:00  16186.00  16190.00  16191.00   \n",
       "2022-11-21 09:45:00 2022-11-21 09:45:00  16160.01  16170.30  16175.00   \n",
       "2022-11-21 09:40:00 2022-11-21 09:40:00  16147.00  16150.00  16168.50   \n",
       "2022-11-21 09:35:00 2022-11-21 09:35:00  16149.59  16159.75  16230.50   \n",
       "2022-11-21 09:30:00 2022-11-21 09:30:00  16175.50  16180.00  16224.00   \n",
       "\n",
       "                          Low      Open  Refresh Rate  BidNet  BTC_Log_Change  \\\n",
       "Local Date                                                                      \n",
       "2023-11-08 16:00:00  35541.92  35617.65           725   13.00             NaN   \n",
       "2023-11-08 15:55:00  35541.89  35569.00           784   41.63       -0.001367   \n",
       "2023-11-08 15:50:00  35516.60  35581.00           754   -8.66        0.000337   \n",
       "2023-11-08 15:45:00  35493.69  35493.69           793   63.93       -0.002457   \n",
       "2023-11-08 15:40:00  35447.68  35591.00           970  -87.57        0.002738   \n",
       "...                       ...       ...           ...     ...             ...   \n",
       "2022-11-21 09:50:00  16152.00  16160.01           728   25.99       -0.001607   \n",
       "2022-11-21 09:45:00  16144.07  16147.00           694   13.01       -0.000805   \n",
       "2022-11-21 09:40:00  16134.44  16153.00           771   -2.59        0.000372   \n",
       "2022-11-21 09:35:00  16132.67  16186.93           956  -25.91        0.002098   \n",
       "2022-11-21 09:30:00  16173.26  16202.80           763     NaN        0.000980   \n",
       "\n",
       "                     BTC_Bid_ask_spread  \n",
       "Local Date                               \n",
       "2023-11-08 16:00:00                1.00  \n",
       "2023-11-08 15:55:00                1.00  \n",
       "2023-11-08 15:50:00                3.35  \n",
       "2023-11-08 15:45:00                3.46  \n",
       "2023-11-08 15:40:00                2.93  \n",
       "...                                 ...  \n",
       "2022-11-21 09:50:00                4.00  \n",
       "2022-11-21 09:45:00               10.29  \n",
       "2022-11-21 09:40:00                3.00  \n",
       "2022-11-21 09:35:00               10.16  \n",
       "2022-11-21 09:30:00                4.50  \n",
       "\n",
       "[101432 rows x 10 columns]"
      ]
     },
     "execution_count": 181,
     "metadata": {},
     "output_type": "execute_result"
    }
   ],
   "source": [
    "#Feature Engineering\n",
    "\n",
    "#1. Percentage change\n",
    "BIT_USD = pd.read_excel('Data/BIT_USD.xlsx', index_col=0)\n",
    "#BIT_USD['pct_change'] = BIT_USD['Open'].pct_change()\n",
    "\n",
    "BIT_USD['BTC_Log_Change'] = np.log(BIT_USD['Open'] / BIT_USD['Open'].shift(1))\n",
    "\n",
    "\n",
    "#2. Bid-Ask Spread\n",
    "BIT_USD['BTC_Bid_ask_spread'] = BIT_USD['Ask'] - BIT_USD['Bid']\n",
    "\n",
    "missing_values_count = BIT_USD['BTC_Log_Change'].isna().sum()\n",
    "print(f\"Number of missing values in 'ColumnName': {missing_values_count}\")\n",
    "BIT_USD\n"
   ]
  },
  {
   "cell_type": "code",
   "execution_count": 182,
   "metadata": {},
   "outputs": [
    {
     "data": {
      "text/plain": [
       "(19197, 10)"
      ]
     },
     "execution_count": 182,
     "metadata": {},
     "output_type": "execute_result"
    }
   ],
   "source": [
    "BIT_USD.index = pd.to_datetime(BIT_USD.index)\n",
    "nyse_calendar = mcal.get_calendar('NYSE')\n",
    "\n",
    "\n",
    "start_date = pd.Timestamp('2022-11-21 09:30:00')\n",
    "end_date = pd.Timestamp('2023-11-08 16:00:00')\n",
    "\n",
    "schedule = nyse_calendar.schedule(start_date=start_date, end_date=end_date)\n",
    "BIT_USD_filtered = BIT_USD[BIT_USD.index.normalize().isin(schedule.index.date)]\n",
    "\n",
    "BIT_USD_filtered = BIT_USD_filtered.between_time('09:30:00', '16:00:00')\n",
    "\n",
    "BIT_USD_filtered\n",
    "BIT_USD_filtered.to_csv('Filtered_Data/BIT_USD_filtered.csv')\n",
    "BIT_USD_filtered.shape"
   ]
  },
  {
   "cell_type": "code",
   "execution_count": 183,
   "metadata": {},
   "outputs": [],
   "source": [
    "####################Done BTC####################"
   ]
  },
  {
   "cell_type": "code",
   "execution_count": 184,
   "metadata": {},
   "outputs": [
    {
     "name": "stdout",
     "output_type": "stream",
     "text": [
      "Number of missing values in 'ColumnName': 19\n"
     ]
    },
    {
     "data": {
      "text/plain": [
       "(19197, 13)"
      ]
     },
     "execution_count": 184,
     "metadata": {},
     "output_type": "execute_result"
    }
   ],
   "source": [
    "AAPL = pd.read_excel('Data/AAPL.xlsx', index_col=0)\n",
    "AAPL.index = pd.to_datetime(AAPL.index)\n",
    "AAPL\n",
    "#Feature Engineering\n",
    "#1. Log Change\n",
    "AAPL['AAPL_Log_Change'] = np.log(AAPL['Close'] / AAPL['Close'].shift(1))\n",
    "\n",
    "#2. Bid-Ask Spread\n",
    "AAPL['AAPL_High_Low_Spread'] = AAPL['High'] - AAPL['Low']\n",
    "AAPL['AAPL_Volume'] = AAPL['Volume']\n",
    "\n",
    "#3. Moving Average\n",
    "AAPL['AAPL_1hr_Moving_Average'] = AAPL['Open'].rolling(window=20).mean()\n",
    "\n",
    "#4. RSI\n",
    "def calculate_rsi(data, window=20):\n",
    "    delta = data.diff()\n",
    "    gain = (delta.where(delta > 0, 0)).rolling(window=window).mean()\n",
    "    loss = (-delta.where(delta < 0, 0)).rolling(window=window).mean()\n",
    "    RS = gain / loss\n",
    "    RSI = 100 - (100 / (1 + RS))\n",
    "    return RSI\n",
    "\n",
    "AAPL['AAPL_RSI'] = calculate_rsi(AAPL['Close'])\n",
    "AAPL['AAPL_Volume'] = AAPL['Volume']\n",
    "\n",
    "AAPL = AAPL.between_time('09:30:00', '16:00:00')\n",
    "missing_values_count = AAPL['AAPL_RSI'].isna().sum()\n",
    "print(f\"Number of missing values in 'ColumnName': {missing_values_count}\")\n",
    "AAPL\n",
    "AAPL.to_csv('Filtered_Data/AAPL_filtered.csv')\n",
    "\n",
    "\n",
    "AAPL.index = pd.to_datetime(AAPL.index)\n",
    "nyse_calendar = mcal.get_calendar('NYSE')\n",
    "\n",
    "\n",
    "start_date = pd.Timestamp('2022-11-21 09:30:00')\n",
    "end_date = pd.Timestamp('2023-11-08 16:00:00')\n",
    "\n",
    "schedule = nyse_calendar.schedule(start_date=start_date, end_date=end_date)\n",
    "AAPL_filtered = AAPL[AAPL.index.normalize().isin(schedule.index.date)]\n",
    "\n",
    "AAPL_filtered = AAPL_filtered.between_time('09:30:00', '16:00:00')\n",
    "\n",
    "AAPL_filtered\n",
    "AAPL_filtered.to_csv('Filtered_Data/AAPL_filtered.csv')\n",
    "AAPL.shape"
   ]
  },
  {
   "cell_type": "code",
   "execution_count": 185,
   "metadata": {},
   "outputs": [],
   "source": [
    "####################Done AAPL####################"
   ]
  },
  {
   "cell_type": "code",
   "execution_count": 186,
   "metadata": {},
   "outputs": [
    {
     "name": "stdout",
     "output_type": "stream",
     "text": [
      "Number of missing values in 'ColumnName': 19\n"
     ]
    },
    {
     "data": {
      "text/plain": [
       "(19197, 13)"
      ]
     },
     "execution_count": 186,
     "metadata": {},
     "output_type": "execute_result"
    }
   ],
   "source": [
    "AMZN = pd.read_excel('Data/AMZN.xlsx', index_col=0)\n",
    "AMZN.index = pd.to_datetime(AMZN.index)\n",
    "\n",
    "#Feature Engineering\n",
    "#1. Log Change\n",
    "AMZN['AMZN_Log_Change'] = np.log(AMZN['Close'] / AMZN['Close'].shift(1))\n",
    "\n",
    "#2. Bid-Ask Spread\n",
    "AMZN['AMZN_High_Low_Spread'] = AMZN['High'] - AMZN['Low']\n",
    "AMZN['AMZN_Volume'] = AMZN['Volume']\n",
    "\n",
    "#3. Moving Average\n",
    "AMZN['AMZN_1hr_Moving_Average'] = AMZN['Open'].rolling(window=20).mean()\n",
    "\n",
    "#4. RSI\n",
    "def calculate_rsi(data, window=20):\n",
    "    delta = data.diff()\n",
    "    gain = (delta.where(delta > 0, 0)).rolling(window=window).mean()\n",
    "    loss = (-delta.where(delta < 0, 0)).rolling(window=window).mean()\n",
    "    RS = gain / loss\n",
    "    RSI = 100 - (100 / (1 + RS))\n",
    "    return RSI\n",
    "\n",
    "AMZN['AMZN_RSI'] = calculate_rsi(AMZN['Close'])\n",
    "AMZN['AMZN_Volume'] = AMZN['Volume']\n",
    "\n",
    "AMZN = AMZN.between_time('09:30:00', '16:00:00')\n",
    "missing_values_count = AMZN['AMZN_RSI'].isna().sum()\n",
    "print(f\"Number of missing values in 'ColumnName': {missing_values_count}\")\n",
    "\n",
    "\n",
    "AMZN.index = pd.to_datetime(AMZN.index)\n",
    "nyse_calendar = mcal.get_calendar('NYSE')\n",
    "\n",
    "\n",
    "start_date = pd.Timestamp('2022-11-21 09:30:00')\n",
    "end_date = pd.Timestamp('2023-11-08 16:00:00')\n",
    "\n",
    "schedule = nyse_calendar.schedule(start_date=start_date, end_date=end_date)\n",
    "AMZN = AMZN[AMZN.index.normalize().isin(schedule.index.date)]\n",
    "\n",
    "AMZN = AMZN.between_time('09:30:00', '16:00:00')\n",
    "\n",
    "AMZN.to_csv('Filtered_Data/AMZN_filtered.csv')\n",
    "AMZN.shape"
   ]
  },
  {
   "cell_type": "code",
   "execution_count": 187,
   "metadata": {},
   "outputs": [],
   "source": [
    "####################Done AMZN####################"
   ]
  },
  {
   "cell_type": "code",
   "execution_count": 188,
   "metadata": {},
   "outputs": [
    {
     "name": "stdout",
     "output_type": "stream",
     "text": [
      "Number of missing values in 'ColumnName': 19\n"
     ]
    },
    {
     "data": {
      "text/plain": [
       "(19197, 13)"
      ]
     },
     "execution_count": 188,
     "metadata": {},
     "output_type": "execute_result"
    }
   ],
   "source": [
    "GOOGL = pd.read_excel('Data/GOOGL.xlsx', index_col=0)\n",
    "GOOGL.index = pd.to_datetime(GOOGL.index)\n",
    "\n",
    "#Feature Engineering\n",
    "#1. Log Change\n",
    "GOOGL['GOOGL_Log_Change'] = np.log(GOOGL['Close'] / GOOGL['Close'].shift(1))\n",
    "\n",
    "#2. Bid-Ask Spread\n",
    "GOOGL['GOOGL_High_Low_Spread'] = GOOGL['High'] - GOOGL['Low']\n",
    "GOOGL['GOOGL_Volume'] = GOOGL['Volume']\n",
    "\n",
    "#3. Moving Average\n",
    "GOOGL['GOOGL_1hr_Moving_Average'] = GOOGL['Open'].rolling(window=20).mean()\n",
    "\n",
    "#4. RSI\n",
    "def calculate_rsi(data, window=20):\n",
    "    delta = data.diff()\n",
    "    gain = (delta.where(delta > 0, 0)).rolling(window=window).mean()\n",
    "    loss = (-delta.where(delta < 0, 0)).rolling(window=window).mean()\n",
    "    RS = gain / loss\n",
    "    RSI = 100 - (100 / (1 + RS))\n",
    "    return RSI\n",
    "\n",
    "GOOGL['GOOGL_RSI'] = calculate_rsi(GOOGL['Close'])\n",
    "GOOGL['GOOGL_Volume'] = GOOGL['Volume']\n",
    "GOOGL = GOOGL.between_time('09:30:00', '16:00:00')\n",
    "missing_values_count = GOOGL['GOOGL_RSI'].isna().sum()\n",
    "print(f\"Number of missing values in 'ColumnName': {missing_values_count}\")\n",
    "\n",
    "GOOGL.index = pd.to_datetime(GOOGL.index)\n",
    "nyse_calendar = mcal.get_calendar('NYSE')\n",
    "\n",
    "start_date = pd.Timestamp('2022-11-21 09:30:00')\n",
    "end_date = pd.Timestamp('2023-11-08 16:00:00')\n",
    "\n",
    "schedule = nyse_calendar.schedule(start_date=start_date, end_date=end_date)\n",
    "GOOGL = GOOGL[GOOGL.index.normalize().isin(schedule.index.date)]\n",
    "\n",
    "GOOGL = GOOGL.between_time('09:30:00', '16:00:00')\n",
    "GOOGL.to_csv('Filtered_Data/GOOGL_filtered.csv')\n",
    "GOOGL.shape"
   ]
  },
  {
   "cell_type": "code",
   "execution_count": 189,
   "metadata": {},
   "outputs": [],
   "source": [
    "####################Done GOOGL####################"
   ]
  },
  {
   "cell_type": "code",
   "execution_count": 190,
   "metadata": {},
   "outputs": [
    {
     "name": "stdout",
     "output_type": "stream",
     "text": [
      "Number of missing values in 'ColumnName': 19\n"
     ]
    },
    {
     "data": {
      "text/plain": [
       "(19197, 13)"
      ]
     },
     "execution_count": 190,
     "metadata": {},
     "output_type": "execute_result"
    }
   ],
   "source": [
    "MSFT = pd.read_excel('Data/MSFT.xlsx', index_col=0)\n",
    "MSFT.index = pd.to_datetime(MSFT.index)\n",
    "\n",
    "#Feature Engineering\n",
    "#1. Log Change\n",
    "MSFT['MSFT_Log_Change'] = np.log(MSFT['Close'] / MSFT['Close'].shift(1))\n",
    "\n",
    "#2. Bid-Ask Spread\n",
    "MSFT['MSFT_High_Low_Spread'] = MSFT['High'] - MSFT['Low']\n",
    "MSFT['MSFT_Volume'] = MSFT['Volume']\n",
    "\n",
    "#3. Moving Average\n",
    "MSFT['MSFT_1hr_Moving_Average'] = MSFT['Open'].rolling(window=20).mean()\n",
    "\n",
    "#4. RSI\n",
    "def calculate_rsi(data, window=20):\n",
    "    delta = data.diff()\n",
    "    gain = (delta.where(delta > 0, 0)).rolling(window=window).mean()\n",
    "    loss = (-delta.where(delta < 0, 0)).rolling(window=window).mean()\n",
    "    RS = gain / loss\n",
    "    RSI = 100 - (100 / (1 + RS))\n",
    "    return RSI\n",
    "\n",
    "MSFT['MSFT_RSI'] = calculate_rsi(MSFT['Close'])\n",
    "MSFT['MSFT_Volume'] = MSFT['Volume']\n",
    "MSFT = MSFT.between_time('09:30:00', '16:00:00')\n",
    "missing_values_count = MSFT['MSFT_RSI'].isna().sum()\n",
    "print(f\"Number of missing values in 'ColumnName': {missing_values_count}\")\n",
    "\n",
    "MSFT.index = pd.to_datetime(MSFT.index)\n",
    "nyse_calendar = mcal.get_calendar('NYSE')\n",
    "\n",
    "\n",
    "start_date = pd.Timestamp('2022-11-21 09:30:00')\n",
    "end_date = pd.Timestamp('2023-11-08 16:00:00')\n",
    "\n",
    "schedule = nyse_calendar.schedule(start_date=start_date, end_date=end_date)\n",
    "MSFT = MSFT[MSFT.index.normalize().isin(schedule.index.date)]\n",
    "\n",
    "MSFT.to_csv('Filtered_Data/MSFT_filtered.csv')\n",
    "MSFT.shape"
   ]
  },
  {
   "cell_type": "code",
   "execution_count": 191,
   "metadata": {},
   "outputs": [],
   "source": [
    "####################Done MSFT####################"
   ]
  },
  {
   "cell_type": "code",
   "execution_count": 192,
   "metadata": {},
   "outputs": [
    {
     "name": "stdout",
     "output_type": "stream",
     "text": [
      "Number of missing values in 'ColumnName': 19\n"
     ]
    },
    {
     "data": {
      "text/plain": [
       "(19197, 13)"
      ]
     },
     "execution_count": 192,
     "metadata": {},
     "output_type": "execute_result"
    }
   ],
   "source": [
    "TSLA = pd.read_excel('Data/TSLA.xlsx', index_col=0)\n",
    "TSLA.index = pd.to_datetime(TSLA.index)\n",
    "\n",
    "#Feature Engineering\n",
    "#1. Log Change\n",
    "TSLA['TSLA_Log_Change'] = np.log(TSLA['Close'] / TSLA['Close'].shift(1))\n",
    "\n",
    "#2. Bid-Ask Spread\n",
    "TSLA['TSLA_High_Low_Spread'] = TSLA['High'] - TSLA['Low']\n",
    "TSLA['TSLA_Volume'] = TSLA['Volume']\n",
    "\n",
    "#3. Moving Average\n",
    "TSLA['TSLA_1hr_Moving_Average'] = TSLA['Open'].rolling(window=20).mean()\n",
    "\n",
    "#4. RSI\n",
    "def calculate_rsi(data, window=20):\n",
    "    delta = data.diff()\n",
    "    gain = (delta.where(delta > 0, 0)).rolling(window=window).mean()\n",
    "    loss = (-delta.where(delta < 0, 0)).rolling(window=window).mean()\n",
    "    RS = gain / loss\n",
    "    RSI = 100 - (100 / (1 + RS))\n",
    "    return RSI\n",
    "\n",
    "TSLA['TSLA_RSI'] = calculate_rsi(TSLA['Close'])\n",
    "TSLA['TSLA_Volume'] = TSLA['Volume']\n",
    "TSLA = TSLA.between_time('09:30:00', '16:00:00')\n",
    "missing_values_count = TSLA['TSLA_RSI'].isna().sum()\n",
    "print(f\"Number of missing values in 'ColumnName': {missing_values_count}\")\n",
    "\n",
    "TSLA.index = pd.to_datetime(TSLA.index)\n",
    "nyse_calendar = mcal.get_calendar('NYSE')\n",
    "\n",
    "\n",
    "start_date = pd.Timestamp('2022-11-21 09:30:00')\n",
    "end_date = pd.Timestamp('2023-11-08 16:00:00')\n",
    "\n",
    "schedule = nyse_calendar.schedule(start_date=start_date, end_date=end_date)\n",
    "TSLA = TSLA[TSLA.index.normalize().isin(schedule.index.date)]\n",
    "\n",
    "TSLA.to_csv('Filtered_Data/TSLA_filtered.csv')\n",
    "TSLA.shape"
   ]
  },
  {
   "cell_type": "code",
   "execution_count": 193,
   "metadata": {},
   "outputs": [],
   "source": [
    "####################Done TSLA####################"
   ]
  },
  {
   "cell_type": "code",
   "execution_count": 194,
   "metadata": {},
   "outputs": [],
   "source": [
    "####################Done Stock Preprocessing####################"
   ]
  },
  {
   "cell_type": "code",
   "execution_count": 205,
   "metadata": {},
   "outputs": [
    {
     "name": "stdout",
     "output_type": "stream",
     "text": [
      "Number of missing values in 'ColumnName': 19\n"
     ]
    },
    {
     "data": {
      "text/plain": [
       "(18884, 9)"
      ]
     },
     "execution_count": 205,
     "metadata": {},
     "output_type": "execute_result"
    }
   ],
   "source": [
    "ARCA_TECH = pd.read_excel('Data/ARCA_TECH.xlsx', index_col=0)\n",
    "ARCA_TECH.index = pd.to_datetime(ARCA_TECH.index)\n",
    "\n",
    "#Feature Engineering\n",
    "#1. Log Change\n",
    "ARCA_TECH['ARCA_TECH_Log_Change'] = np.log(ARCA_TECH['Close'] / ARCA_TECH['Close'].shift(1))\n",
    "\n",
    "#2. Moving Average\n",
    "ARCA_TECH['ARCA_TECH_1hr_Moving_Average'] = ARCA_TECH['Close'].rolling(window=20).mean()\n",
    "\n",
    "ARCA_TECH = ARCA_TECH.between_time('09:30:00', '16:00:00')\n",
    "missing_values_count = ARCA_TECH['ARCA_TECH_1hr_Moving_Average'].isna().sum()\n",
    "print(f\"Number of missing values in 'ColumnName': {missing_values_count}\")\n",
    "\n",
    "\n",
    "ARCA_TECH.index = pd.to_datetime(ARCA_TECH.index)\n",
    "nyse_calendar = mcal.get_calendar('NYSE')\n",
    "\n",
    "\n",
    "start_date = pd.Timestamp('2022-11-21 09:30:00')\n",
    "end_date = pd.Timestamp('2023-11-08 16:00:00')\n",
    "\n",
    "schedule = nyse_calendar.schedule(start_date=start_date, end_date=end_date)\n",
    "ARCA_TECH = ARCA_TECH[ARCA_TECH.index.normalize().isin(schedule.index.date)]\n",
    "\n",
    "\n",
    "ARCA_TECH.to_csv('Filtered_Data/ARCA_TECH_filtered.csv')\n",
    "ARCA_TECH.shape"
   ]
  },
  {
   "cell_type": "code",
   "execution_count": 196,
   "metadata": {},
   "outputs": [],
   "source": [
    "####################Done Index Preprocessing####################"
   ]
  },
  {
   "cell_type": "code",
   "execution_count": 197,
   "metadata": {},
   "outputs": [
    {
     "name": "stdout",
     "output_type": "stream",
     "text": [
      "Number of missing values in 'ColumnName': 19\n"
     ]
    },
    {
     "data": {
      "text/plain": [
       "(18836, 10)"
      ]
     },
     "execution_count": 197,
     "metadata": {},
     "output_type": "execute_result"
    }
   ],
   "source": [
    "NASDAQ = pd.read_excel('Data/NASDAQ.xlsx', index_col=0)\n",
    "NASDAQ.index = pd.to_datetime(NASDAQ.index)\n",
    "\n",
    "#Feature Engineering\n",
    "#1. Log Change\n",
    "NASDAQ['NASDAQ_Log_Change'] = np.log(ARCA_TECH['Close'] / ARCA_TECH['Close'].shift(1))\n",
    "\n",
    "#2. Moving Average\n",
    "NASDAQ['NASDAQ_1hr_Moving_Average'] = NASDAQ['Close'].rolling(window=20).mean()\n",
    "\n",
    "NASDAQ = NASDAQ.between_time('09:30:00', '16:00:00')\n",
    "missing_values_count = NASDAQ['NASDAQ_1hr_Moving_Average'].isna().sum()\n",
    "print(f\"Number of missing values in 'ColumnName': {missing_values_count}\")\n",
    "\n",
    "NASDAQ.index = pd.to_datetime(NASDAQ.index)\n",
    "nyse_calendar = mcal.get_calendar('NYSE')\n",
    "\n",
    "\n",
    "start_date = pd.Timestamp('2022-11-21 09:30:00')\n",
    "end_date = pd.Timestamp('2023-11-08 16:00:00')\n",
    "\n",
    "schedule = nyse_calendar.schedule(start_date=start_date, end_date=end_date)\n",
    "NASDAQ = NASDAQ[NASDAQ.index.normalize().isin(schedule.index.date)]\n",
    "\n",
    "\n",
    "NASDAQ.to_csv('Filtered_Data/NASDAQ_filtered.csv')\n",
    "NASDAQ.shape"
   ]
  },
  {
   "cell_type": "code",
   "execution_count": 198,
   "metadata": {},
   "outputs": [
    {
     "data": {
      "text/plain": [
       "(18944, 13)"
      ]
     },
     "execution_count": 198,
     "metadata": {},
     "output_type": "execute_result"
    }
   ],
   "source": [
    "OIL = pd.read_excel('Data/OIL Price.xlsx', index_col=0)\n",
    "#Feature Engineering\n",
    "#1. log return\n",
    "OIL['OIL_Log_Change'] = np.log(OIL['Close'] / OIL['Close'].shift(1))\n",
    "#2. Volume\n",
    "OIL['OIL_Volume'] = OIL['Volume']\n",
    "#3. Bid-Ask Spread\n",
    "OIL['OIL_High_Low_Spread'] = OIL['Ask'] - OIL['Bid']\n",
    "\n",
    "OIL = OIL.between_time('09:30:00', '16:00:00')\n",
    "\n",
    "OIL.index = pd.to_datetime(OIL.index)\n",
    "nyse_calendar = mcal.get_calendar('NYSE')\n",
    "\n",
    "\n",
    "start_date = pd.Timestamp('2022-11-21 09:30:00')\n",
    "end_date = pd.Timestamp('2023-11-08 16:00:00')\n",
    "\n",
    "schedule = nyse_calendar.schedule(start_date=start_date, end_date=end_date)\n",
    "OIL = OIL[OIL.index.normalize().isin(schedule.index.date)]\n",
    "\n",
    "\n",
    "OIL.to_csv('Filtered_Data/OIL_filtered.csv')\n",
    "OIL.shape\n",
    "\n",
    "\n"
   ]
  },
  {
   "cell_type": "code",
   "execution_count": 199,
   "metadata": {},
   "outputs": [],
   "source": [
    "####################Done Commodities####################"
   ]
  },
  {
   "cell_type": "code",
   "execution_count": 203,
   "metadata": {},
   "outputs": [
    {
     "name": "stdout",
     "output_type": "stream",
     "text": [
      "DatetimeIndex([], dtype='datetime64[ns]', name='Local Date', freq=None)\n"
     ]
    }
   ],
   "source": [
    "# Convert index to datetime (if not already)\n",
    "AAPL.index = pd.to_datetime(AAPL.index)\n",
    "OIL.index = pd.to_datetime(OIL.index)\n",
    "\n",
    "# Align the date ranges of both datasets\n",
    "start_date = max(AAPL.index.min(), OIL.index.min())\n",
    "end_date = min(AAPL.index.max(), OIL.index.max())\n",
    "AAPL_aligned = AAPL.loc[start_date:end_date]\n",
    "OIL_aligned = OIL.loc[start_date:end_date]\n",
    "\n",
    "# Find timestamps in AAPL that are not in OIL\n",
    "missing_in_AAPL = OIL_aligned.index.difference(AAPL_aligned.index)\n",
    "print(missing_in_AAPL)"
   ]
  }
 ],
 "metadata": {
  "kernelspec": {
   "display_name": "Python 3",
   "language": "python",
   "name": "python3"
  },
  "language_info": {
   "codemirror_mode": {
    "name": "ipython",
    "version": 3
   },
   "file_extension": ".py",
   "mimetype": "text/x-python",
   "name": "python",
   "nbconvert_exporter": "python",
   "pygments_lexer": "ipython3",
   "version": "3.11.4"
  },
  "orig_nbformat": 4
 },
 "nbformat": 4,
 "nbformat_minor": 2
}
