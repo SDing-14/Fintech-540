{
 "cells": [
  {
   "cell_type": "markdown",
   "metadata": {},
   "source": [
    "1. Perform PCA to reduce dimention."
   ]
  },
  {
   "cell_type": "code",
   "execution_count": 1,
   "metadata": {},
   "outputs": [
    {
     "name": "stdout",
     "output_type": "stream",
     "text": [
      "Index([], dtype='object')\n",
      "    Principal Component  Explained Variance (%)              Top Feature\n",
      "0                     1               12.966038  TMUS_1hr_Moving_Average\n",
      "1                     2                9.591556              MSFT_Volume\n",
      "2                     3                8.629144        NASDAQ_Volatility\n",
      "3                     4                5.341366        NASDAQ_Log_Change\n",
      "4                     5                3.340640     NFLX_High_Low_Spread\n",
      "5                     6                2.500866          AMAT_Volatility\n",
      "6                     7                2.231122   TXN_1hr_Moving_Average\n",
      "7                     8                1.809474          ADBE_Volatility\n",
      "8                     9                1.664596  QCOM_1hr_Moving_Average\n",
      "9                    10                1.399536     MSFT_High_Low_Spread\n",
      "10                   11                1.315777           HON_Volatility\n",
      "11                   12                1.239295          NFLX_Volatility\n",
      "12                   13                1.185854          TSLA_Volatility\n",
      "13                   14                1.133974         CMCSA_Volatility\n",
      "14                   15                1.082676           PEP_Log_Change\n",
      "15                   16                1.059115          TMUS_Volatility\n",
      "16                   17                0.992052      PEP_High_Low_Spread\n",
      "17                   18                0.989307     AAPL_High_Low_Spread\n",
      "18                   19                0.948985       BTC_Bid_ask_spread\n",
      "19                   20                0.927826           OIL_Log_Change\n"
     ]
    }
   ],
   "source": [
    "from sklearn.decomposition import PCA\n",
    "from sklearn.preprocessing import StandardScaler\n",
    "import pandas as pd\n",
    "\n",
    "df = pd.read_csv('combined_dataset.csv')\n",
    "duplicate_columns = df.columns[df.columns.duplicated()]\n",
    "print(duplicate_columns)\n",
    "df.set_index(df.columns[0], inplace=True)\n",
    "\n",
    "pca = PCA(n_components=20)  # Choose the number of components to retain\n",
    "\n",
    "scaler = StandardScaler()\n",
    "X_scaled = scaler.fit_transform(df)\n",
    "X_pca = pca.fit_transform(X_scaled)\n",
    "\n",
    "\n",
    "explained_variance_ratio = pca.explained_variance_ratio_\n",
    "\n",
    "\n",
    "feature_names = df.columns\n",
    "\n",
    "\n",
    "component_df = pd.DataFrame({\n",
    "    'Principal Component': range(1, 21),  # Top 20 components\n",
    "    'Explained Variance (%)': explained_variance_ratio * 100,\n",
    "    'Top Feature': [feature_names[i] for i in pca.components_.argmax(axis=1)]\n",
    "})\n",
    "\n",
    "# Sort the DataFrame \n",
    "component_df = component_df.sort_values(by='Explained Variance (%)', ascending=False)\n",
    "\n",
    "\n",
    "print(component_df)\n"
   ]
  },
  {
   "cell_type": "markdown",
   "metadata": {},
   "source": [
    "2. Kernel PCA"
   ]
  },
  {
   "cell_type": "code",
   "execution_count": 2,
   "metadata": {},
   "outputs": [],
   "source": [
    "from sklearn.decomposition import KernelPCA\n",
    "from sklearn.preprocessing import StandardScaler\n",
    "import pandas as pd\n",
    "\n",
    "df = pd.read_csv('combined_dataset.csv')\n",
    "\n",
    "df.set_index(df.columns[0], inplace=True)\n",
    "\n",
    "scaler = StandardScaler()\n",
    "X_scaled = scaler.fit_transform(df)\n",
    "\n",
    "\n",
    "kernel_pca = KernelPCA(kernel='rbf', n_components=20)\n",
    "\n",
    "X_kernel_pca = kernel_pca.fit_transform(X_scaled)\n",
    "\n"
   ]
  },
  {
   "cell_type": "code",
   "execution_count": 3,
   "metadata": {},
   "outputs": [
    {
     "name": "stdout",
     "output_type": "stream",
     "text": [
      "            PC2       PC3       PC4       PC5       PC6       PC7       PC8  \\\n",
      "0     -0.324059 -0.085298  0.054238 -0.138918 -0.050316 -0.029660 -0.051468   \n",
      "1     -0.322553 -0.087503  0.108259 -0.051507 -0.046203 -0.007239 -0.004692   \n",
      "2     -0.322075 -0.075787  0.031551 -0.172285 -0.042285 -0.014541 -0.017169   \n",
      "3     -0.269825  0.094429  0.238493  0.150030 -0.039064  0.049505  0.035369   \n",
      "4     -0.307715 -0.013144  0.251520  0.025153 -0.035242  0.043865  0.047053   \n",
      "...         ...       ...       ...       ...       ...       ...       ...   \n",
      "19092  0.328708 -0.001441 -0.098725 -0.040852  0.200911 -0.000274  0.030983   \n",
      "19093 -0.096349  0.436710 -0.078957 -0.000852 -0.020590  0.091920  0.055087   \n",
      "19094  0.223176  0.139104 -0.002326  0.083162  0.139886 -0.003650 -0.036680   \n",
      "19095  0.097008  0.315731  0.078717  0.136064  0.051036 -0.002589 -0.122644   \n",
      "19096 -0.088477  0.451630 -0.081098 -0.007008 -0.027562  0.101888  0.025923   \n",
      "\n",
      "            PC9      PC10      PC11      PC12      PC13      PC14      PC15  \\\n",
      "0     -0.057430 -0.022996  0.030068 -0.146057 -0.057237  0.007765 -0.033230   \n",
      "1     -0.062082 -0.010824  0.042801 -0.144481 -0.056979 -0.083569 -0.024085   \n",
      "2     -0.095428 -0.000793  0.026438 -0.124385 -0.077801 -0.023471 -0.060683   \n",
      "3     -0.006623 -0.073019  0.042569 -0.142877 -0.044001 -0.019693  0.043392   \n",
      "4     -0.072436 -0.084828  0.056208 -0.173019 -0.066463 -0.012919 -0.024187   \n",
      "...         ...       ...       ...       ...       ...       ...       ...   \n",
      "19092 -0.022042 -0.044327 -0.069775 -0.095655 -0.016687 -0.145680 -0.035197   \n",
      "19093 -0.114898 -0.010904 -0.011642  0.009046  0.001883 -0.004368  0.000768   \n",
      "19094 -0.020901  0.006604 -0.080623 -0.048863 -0.027041 -0.110756 -0.119302   \n",
      "19095  0.013578  0.058587 -0.090301 -0.020151 -0.031372 -0.083830 -0.122391   \n",
      "19096 -0.097178 -0.009080 -0.022517 -0.006723 -0.006753 -0.038038 -0.009556   \n",
      "\n",
      "           PC16      PC17      PC18      PC19      PC20      PC21  \n",
      "0     -0.044216  0.122595 -0.144221  0.031168 -0.021638  0.036521  \n",
      "1     -0.064179  0.136652 -0.158603 -0.005944 -0.013094 -0.020547  \n",
      "2     -0.077584  0.117114 -0.165718  0.075005 -0.028983 -0.145978  \n",
      "3     -0.000958  0.163225 -0.140293 -0.079064 -0.034366  0.150554  \n",
      "4     -0.032962  0.137663 -0.154889 -0.002050 -0.026903  0.125472  \n",
      "...         ...       ...       ...       ...       ...       ...  \n",
      "19092 -0.061045  0.016939 -0.064175  0.044269  0.055832 -0.044818  \n",
      "19093 -0.005212  0.009166  0.029961 -0.024137  0.009543 -0.003978  \n",
      "19094 -0.052538 -0.001141 -0.078596  0.095079  0.061392 -0.015736  \n",
      "19095 -0.047177 -0.018456 -0.060819  0.084339  0.031787 -0.038604  \n",
      "19096 -0.032879 -0.019141  0.039928  0.027701  0.022057 -0.011620  \n",
      "\n",
      "[19097 rows x 20 columns]\n"
     ]
    }
   ],
   "source": [
    "# Converting the transformed data into a DataFrame\n",
    "X_kernel_pca_df = pd.DataFrame(X_kernel_pca, columns=[f'PC{i+1}' for i in range(1, 21)])\n",
    "\n",
    "# Printing the transformed data\n",
    "print(X_kernel_pca_df)\n"
   ]
  }
 ],
 "metadata": {
  "kernelspec": {
   "display_name": "Python 3",
   "language": "python",
   "name": "python3"
  },
  "language_info": {
   "codemirror_mode": {
    "name": "ipython",
    "version": 3
   },
   "file_extension": ".py",
   "mimetype": "text/x-python",
   "name": "python",
   "nbconvert_exporter": "python",
   "pygments_lexer": "ipython3",
   "version": "3.11.6"
  },
  "orig_nbformat": 4
 },
 "nbformat": 4,
 "nbformat_minor": 2
}
