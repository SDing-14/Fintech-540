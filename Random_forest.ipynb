{
 "cells": [
  {
   "cell_type": "code",
   "execution_count": 24,
   "metadata": {},
   "outputs": [],
   "source": [
    "import pandas as pd\n",
    "import numpy as np\n",
    "from sklearn.model_selection import train_test_split\n",
    "from sklearn.metrics import r2_score\n",
    "from sklearn.ensemble import RandomForestRegressor\n",
    "from sklearn.model_selection import GridSearchCV"
   ]
  },
  {
   "cell_type": "code",
   "execution_count": 25,
   "metadata": {},
   "outputs": [],
   "source": [
    "df = pd.read_csv('combined_dataset.csv')\n",
    "\n",
    "\n",
    "\n",
    "df['Local Date'] = pd.to_datetime(df['Local Date'])\n",
    "df = df.sort_values(by='Local Date')\n",
    "\n",
    "# Assuming the dataset spans a considerable time range, we can pick a cut-off date\n",
    "# For example, if we want to use the last 20% of dates for testing, we can do the following:\n",
    "cut_off_index = int(len(df) * 0.8)\n",
    "cut_off_date = df.iloc[cut_off_index]['Local Date']\n",
    "\n",
    "# Splitting the data based on the cut-off date\n",
    "train_df = df[df['Local Date'] < cut_off_date]\n",
    "test_df = df[df['Local Date'] >= cut_off_date]\n",
    "\n",
    "# Preparing the feature (X) and target (y) variables\n",
    "X_train = train_df.drop(columns=['NASDAQ_Volatility', 'Local Date']).values\n",
    "y_train = train_df['NASDAQ_Volatility'].values\n",
    "X_test = test_df.drop(columns=['NASDAQ_Volatility', 'Local Date']).values\n",
    "y_test = test_df['NASDAQ_Volatility'].values"
   ]
  },
  {
   "cell_type": "code",
   "execution_count": 28,
   "metadata": {},
   "outputs": [
    {
     "name": "stdout",
     "output_type": "stream",
     "text": [
      "Fitting 3 folds for each of 9 candidates, totalling 27 fits\n",
      "[CV] END .....................max_depth=10, n_estimators=100; total time= 2.2min\n",
      "[CV] END .....................max_depth=10, n_estimators=100; total time= 2.2min\n",
      "[CV] END .....................max_depth=10, n_estimators=100; total time= 2.2min\n",
      "[CV] END .....................max_depth=10, n_estimators=200; total time= 4.3min\n",
      "[CV] END .....................max_depth=10, n_estimators=200; total time= 4.3min\n",
      "[CV] END .....................max_depth=10, n_estimators=200; total time= 4.3min\n",
      "[CV] END .....................max_depth=20, n_estimators=100; total time= 3.3min\n",
      "[CV] END .....................max_depth=20, n_estimators=100; total time= 3.3min\n",
      "[CV] END .....................max_depth=10, n_estimators=300; total time= 6.2min\n",
      "[CV] END .....................max_depth=10, n_estimators=300; total time= 6.4min\n",
      "[CV] END .....................max_depth=20, n_estimators=100; total time= 3.1min\n",
      "[CV] END .....................max_depth=10, n_estimators=300; total time= 6.0min\n",
      "[CV] END .....................max_depth=20, n_estimators=200; total time= 6.3min\n",
      "[CV] END .....................max_depth=20, n_estimators=200; total time= 6.4min\n",
      "[CV] END .....................max_depth=30, n_estimators=100; total time= 3.5min\n",
      "[CV] END .....................max_depth=30, n_estimators=100; total time= 3.5min\n",
      "[CV] END .....................max_depth=20, n_estimators=200; total time= 6.5min\n",
      "[CV] END .....................max_depth=30, n_estimators=100; total time= 3.5min\n",
      "[CV] END .....................max_depth=20, n_estimators=300; total time= 9.7min\n",
      "[CV] END .....................max_depth=20, n_estimators=300; total time= 9.8min\n",
      "[CV] END .....................max_depth=20, n_estimators=300; total time=10.0min\n",
      "[CV] END .....................max_depth=30, n_estimators=200; total time= 6.7min\n",
      "[CV] END .....................max_depth=30, n_estimators=200; total time= 6.7min\n",
      "[CV] END .....................max_depth=30, n_estimators=200; total time= 6.5min\n",
      "[CV] END .....................max_depth=30, n_estimators=300; total time= 8.5min\n",
      "[CV] END .....................max_depth=30, n_estimators=300; total time= 7.8min\n",
      "[CV] END .....................max_depth=30, n_estimators=300; total time= 7.4min\n"
     ]
    },
    {
     "data": {
      "text/plain": [
       "{'max_depth': 10, 'n_estimators': 200}"
      ]
     },
     "execution_count": 28,
     "metadata": {},
     "output_type": "execute_result"
    }
   ],
   "source": [
    "param_grid = {\n",
    "    'n_estimators': [100, 200, 300],\n",
    "    'max_depth': [10, 20, 30],\n",
    "}\n",
    "\n",
    "# Initialize the grid search model\n",
    "grid_search = GridSearchCV(estimator=RandomForestRegressor(random_state=42), \n",
    "                           param_grid=param_grid, \n",
    "                           cv=3, \n",
    "                           n_jobs=-1, \n",
    "                           verbose=2)\n",
    "\n",
    "# Fit the grid search to the data\n",
    "grid_search.fit(X_train, y_train)\n",
    "\n",
    "# Get the best parameters\n",
    "best_params = grid_search.best_params_\n",
    "best_params"
   ]
  },
  {
   "cell_type": "code",
   "execution_count": 29,
   "metadata": {},
   "outputs": [],
   "source": [
    "y_pred = grid_search.predict(X_test)"
   ]
  },
  {
   "cell_type": "code",
   "execution_count": 30,
   "metadata": {},
   "outputs": [
    {
     "name": "stdout",
     "output_type": "stream",
     "text": [
      "R-squared on Test Set: 0.4105191253857984\n"
     ]
    }
   ],
   "source": [
    "r_squared = r2_score(y_test, y_pred)\n",
    "print(f'R-squared on Test Set: {r_squared}')\n"
   ]
  }
 ],
 "metadata": {
  "kernelspec": {
   "display_name": "Python 3",
   "language": "python",
   "name": "python3"
  },
  "language_info": {
   "codemirror_mode": {
    "name": "ipython",
    "version": 3
   },
   "file_extension": ".py",
   "mimetype": "text/x-python",
   "name": "python",
   "nbconvert_exporter": "python",
   "pygments_lexer": "ipython3",
   "version": "3.8.18"
  }
 },
 "nbformat": 4,
 "nbformat_minor": 2
}
