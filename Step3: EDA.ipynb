{
 "cells": [
  {
   "cell_type": "code",
   "execution_count": null,
   "metadata": {},
   "outputs": [],
   "source": [
    "import matplotlib.pyplot as plt\n",
    "import pandas as pd\n",
    "import seaborn as sns\n",
    "import missingno as msno\n",
    "\n",
    "#read data\n",
    "data=pd.read_csv('combined_dataset.csv')\n",
    "\n",
    "# Check for missing values\n",
    "missing_values = data.isnull().sum()\n",
    "\n",
    "# Descriptive statistics\n",
    "desc_stats = data.describe()\n",
    "\n",
    "# For visualization, we will select a few columns\n",
    "# Selecting columns for Apple Inc. (AAPL) as an example\n",
    "selected_columns = ['AAPL_Log_Change', 'AAPL_High_Low_Spread', 'AAPL_Volume', 'AAPL_1hr_Moving_Average', 'AAPL_RSI']\n",
    "\n",
    "# Extracting date from the timestamp for plotting\n",
    "data['Date'] = pd.to_datetime(data['Unnamed: 0']).dt.date\n",
    "\n",
    "# Plotting time series for selected columns\n",
    "plt.figure(figsize=(15, 10))\n",
    "\n",
    "for i, column in enumerate(selected_columns, 1):\n",
    "    plt.subplot(len(selected_columns), 1, i)\n",
    "    sns.lineplot(data=data, x='Date', y=column)\n",
    "    plt.title(column)\n",
    "    plt.tight_layout()\n",
    "\n",
    "plt.show()\n"
   ]
  },
  {
   "cell_type": "code",
   "execution_count": null,
   "metadata": {},
   "outputs": [],
   "source": [
    "msno.matrix(data)\n",
    "plt.show()"
   ]
  },
  {
   "cell_type": "code",
   "execution_count": null,
   "metadata": {},
   "outputs": [],
   "source": [
    "plt.figure(figsize=(15, 10))\n",
    "for i, column in enumerate(selected_columns, 1):\n",
    "    plt.subplot(len(selected_columns), 1, i)\n",
    "    sns.histplot(data[column], kde=True)\n",
    "    plt.title(f'Histogram of {column}')\n",
    "    plt.tight_layout()\n",
    "\n",
    "plt.show()"
   ]
  },
  {
   "cell_type": "code",
   "execution_count": null,
   "metadata": {},
   "outputs": [],
   "source": [
    "pairs_to_plot = [\n",
    "    ('NASDAQ_Volatility', 'AAPL_High_Low_Spread'),\n",
    "    ('NASDAQ_Volatility', 'AAPL_Volume'),\n",
    "    ('NASDAQ_Volatility', 'AAPL_1hr_Moving_Average'),\n",
    "    ('NASDAQ_Volatility', 'AAPL_RSI')\n",
    "]\n",
    "\n",
    "# 绘制散点图\n",
    "for pair in pairs_to_plot:\n",
    "    plt.figure(figsize=(8, 6))\n",
    "    sns.scatterplot(data=data, x=pair[0], y=pair[1])\n",
    "    plt.title(f'Scatter Plot of {pair[0]} vs {pair[1]}')\n",
    "    plt.show()"
   ]
  }
 ],
 "metadata": {
  "language_info": {
   "name": "python"
  },
  "orig_nbformat": 4
 },
 "nbformat": 4,
 "nbformat_minor": 2
}
