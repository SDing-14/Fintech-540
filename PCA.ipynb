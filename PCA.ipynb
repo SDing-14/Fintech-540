{
 "cells": [
  {
   "cell_type": "markdown",
   "metadata": {},
   "source": [
    "1. Perform PCA to reduce dimention."
   ]
  },
  {
   "cell_type": "code",
   "execution_count": 5,
   "metadata": {},
   "outputs": [
    {
     "name": "stdout",
     "output_type": "stream",
     "text": [
      "Index([], dtype='object')\n",
      "    Principal Component  Explained Variance (%)              Top Feature\n",
      "0                     1               13.034579   HON_1hr_Moving_Average\n",
      "1                     2               10.391251              MSFT_Volume\n",
      "2                     3                8.772916              MSFT_Volume\n",
      "3                     4                5.316154     ARCA_TECH_Log_Change\n",
      "4                     5                3.940594               HON_Volume\n",
      "5                     6                3.019202     NFLX_High_Low_Spread\n",
      "6                     7                1.995048      PEP_High_Low_Spread\n",
      "7                     8                1.683801           PEP_Log_Change\n",
      "8                     9                1.622533      PEP_High_Low_Spread\n",
      "9                    10                1.309296  QCOM_1hr_Moving_Average\n",
      "10                   11                1.209988  QCOM_1hr_Moving_Average\n",
      "11                   12                1.113185           TXN_Log_Change\n",
      "12                   13                1.055997           PEP_Log_Change\n",
      "13                   14                1.033393     AMZN_High_Low_Spread\n",
      "14                   15                1.008733      OIL_High_Low_Spread\n",
      "15                   16                0.965125       BTC_Bid_ask_spread\n",
      "16                   17                0.929541       BTC_Bid_ask_spread\n",
      "17                   18                0.906386     TMUS_High_Low_Spread\n",
      "18                   19                0.885399     TSLA_High_Low_Spread\n",
      "19                   20                0.857353           BTC_Log_Change\n"
     ]
    }
   ],
   "source": [
    "from sklearn.decomposition import PCA\n",
    "from sklearn.preprocessing import StandardScaler\n",
    "import pandas as pd\n",
    "\n",
    "df = pd.read_csv('combined_dataset.csv')\n",
    "duplicate_columns = df.columns[df.columns.duplicated()]\n",
    "print(duplicate_columns)\n",
    "df.set_index(df.columns[0], inplace=True)\n",
    "\n",
    "pca = PCA(n_components=20)  # Choose the number of components to retain\n",
    "\n",
    "scaler = StandardScaler()\n",
    "X_scaled = scaler.fit_transform(df)\n",
    "X_pca = pca.fit_transform(X_scaled)\n",
    "\n",
    "\n",
    "explained_variance_ratio = pca.explained_variance_ratio_\n",
    "\n",
    "\n",
    "feature_names = df.columns\n",
    "\n",
    "\n",
    "component_df = pd.DataFrame({\n",
    "    'Principal Component': range(1, 21),  # Top 20 components\n",
    "    'Explained Variance (%)': explained_variance_ratio * 100,\n",
    "    'Top Feature': [feature_names[i] for i in pca.components_.argmax(axis=1)]\n",
    "})\n",
    "\n",
    "# Sort the DataFrame \n",
    "component_df = component_df.sort_values(by='Explained Variance (%)', ascending=False)\n",
    "\n",
    "\n",
    "print(component_df)\n"
   ]
  },
  {
   "cell_type": "markdown",
   "metadata": {},
   "source": [
    "2. Kernel PCA"
   ]
  },
  {
   "cell_type": "code",
   "execution_count": 6,
   "metadata": {},
   "outputs": [
    {
     "ename": "AttributeError",
     "evalue": "'KernelPCA' object has no attribute 'lambdas_'",
     "output_type": "error",
     "traceback": [
      "\u001b[0;31m---------------------------------------------------------------------------\u001b[0m",
      "\u001b[0;31mAttributeError\u001b[0m                            Traceback (most recent call last)",
      "Cell \u001b[0;32mIn[6], line 22\u001b[0m\n\u001b[1;32m     19\u001b[0m X_kernel_pca \u001b[39m=\u001b[39m kernel_pca\u001b[39m.\u001b[39mfit_transform(X_scaled)\n\u001b[1;32m     21\u001b[0m \u001b[39m# Access the explained variance ratio\u001b[39;00m\n\u001b[0;32m---> 22\u001b[0m explained_variance_ratio \u001b[39m=\u001b[39m kernel_pca\u001b[39m.\u001b[39;49mlambdas_ \u001b[39m/\u001b[39m \u001b[39msum\u001b[39m(kernel_pca\u001b[39m.\u001b[39mlambdas_)\n\u001b[1;32m     24\u001b[0m \u001b[39m# Create a DataFrame to display the results\u001b[39;00m\n\u001b[1;32m     25\u001b[0m component_df \u001b[39m=\u001b[39m pd\u001b[39m.\u001b[39mDataFrame({\n\u001b[1;32m     26\u001b[0m    \u001b[39m'\u001b[39m\u001b[39mPrincipal Component\u001b[39m\u001b[39m'\u001b[39m: \u001b[39mrange\u001b[39m(\u001b[39m1\u001b[39m, \u001b[39m11\u001b[39m),  \u001b[39m# Top 10 components\u001b[39;00m\n\u001b[1;32m     27\u001b[0m    \u001b[39m'\u001b[39m\u001b[39mExplained Variance (\u001b[39m\u001b[39m%\u001b[39m\u001b[39m)\u001b[39m\u001b[39m'\u001b[39m: explained_variance_ratio \u001b[39m*\u001b[39m \u001b[39m100\u001b[39m\n\u001b[1;32m     28\u001b[0m })\n",
      "\u001b[0;31mAttributeError\u001b[0m: 'KernelPCA' object has no attribute 'lambdas_'"
     ]
    }
   ],
   "source": [
    "from sklearn.decomposition import KernelPCA\n",
    "from sklearn.preprocessing import StandardScaler\n",
    "import pandas as pd\n",
    "\n",
    "df = pd.read_csv('combined_dataset.csv')\n",
    "\n",
    "df.set_index(df.columns[0], inplace=True)\n",
    "\n",
    "scaler = StandardScaler()\n",
    "X_scaled = scaler.fit_transform(df)\n",
    "\n",
    "\n",
    "kernel_pca = KernelPCA(kernel='rbf', n_components=20)\n",
    "\n",
    "X_kernel_pca = kernel_pca.fit_transform(X_scaled)\n",
    "\n",
    "eigenvalues = kernel_pca.lambdas_\n",
    "\n",
    "explained_variance_ratio = eigenvalues / sum(eigenvalues)\n",
    "\n",
    "component_df = pd.DataFrame({\n",
    "   'Principal Component': range(1, 21),\n",
    "   'Explained Variance (%)': explained_variance_ratio * 100\n",
    "})\n",
    "\n",
    "print(component_df)\n"
   ]
  }
 ],
 "metadata": {
  "kernelspec": {
   "display_name": "Python 3",
   "language": "python",
   "name": "python3"
  },
  "language_info": {
   "codemirror_mode": {
    "name": "ipython",
    "version": 3
   },
   "file_extension": ".py",
   "mimetype": "text/x-python",
   "name": "python",
   "nbconvert_exporter": "python",
   "pygments_lexer": "ipython3",
   "version": "3.11.4"
  },
  "orig_nbformat": 4
 },
 "nbformat": 4,
 "nbformat_minor": 2
}
