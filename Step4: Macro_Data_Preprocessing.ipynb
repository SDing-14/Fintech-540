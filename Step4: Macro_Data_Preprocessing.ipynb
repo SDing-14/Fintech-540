{
 "cells": [
  {
   "cell_type": "code",
   "execution_count": 37,
   "metadata": {},
   "outputs": [
    {
     "name": "stdout",
     "output_type": "stream",
     "text": [
      "[*********************100%%**********************]  1 of 1 completed"
     ]
    },
    {
     "name": "stdout",
     "output_type": "stream",
     "text": [
      "\n",
      "[*********************100%%**********************]  1 of 1 completed\n",
      "[*********************100%%**********************]  1 of 1 completed\n"
     ]
    }
   ],
   "source": [
    "import yfinance as yf\n",
    "import numpy as np\n",
    "\n",
    "# Symbols\n",
    "gold_symbol = \"GC=F\" \n",
    "treasury_symbol = \"^TNX\"\n",
    "currency_symbol = \"EURUSD=X\"\n",
    "\n",
    "# Define the date range\n",
    "start_date = \"2022-11-21\"\n",
    "end_date = \"2023-11-08\"\n",
    "\n",
    "# Fetch the historical data for gold\n",
    "gold_data = yf.download(gold_symbol, start=start_date, end=end_date, interval='1d')\n",
    "treasury_data = yf.download(treasury_symbol, start=start_date, end=end_date, interval='1d')\n",
    "currency_data = yf.download(currency_symbol, start=start_date, end=end_date, interval='1d')"
   ]
  },
  {
   "cell_type": "code",
   "execution_count": 38,
   "metadata": {},
   "outputs": [],
   "source": [
    "import pandas as pd\n",
    "\n",
    "file_path = 'Data/VIX.csv'  # Replace with your file path\n",
    "\n",
    "# Read the CSV file\n",
    "VIX_data = pd.read_csv(file_path)"
   ]
  },
  {
   "cell_type": "code",
   "execution_count": 39,
   "metadata": {},
   "outputs": [],
   "source": [
    "def create_intervals(date):\n",
    "    return pd.date_range(start=f'{date} 09:30', end=f'{date} 16:00', freq='5T')"
   ]
  },
  {
   "cell_type": "code",
   "execution_count": 40,
   "metadata": {},
   "outputs": [],
   "source": [
    "def expand_df(df):\n",
    "    df = df.reset_index()\n",
    "    df['Date'] = pd.to_datetime(df['Date'])\n",
    "    # Apply this function to each date in your DataFrame\n",
    "    all_intervals = [create_intervals(date) for date in df['Date'].unique()]\n",
    "    flattened_intervals = [time for sublist in all_intervals for time in sublist]\n",
    "    # Create a new DataFrame for these intervals\n",
    "    interval_df = pd.DataFrame({'DateTime': flattened_intervals})\n",
    "\n",
    "    # Merge with the original DataFrame\n",
    "    df['Date'] = df['Date'].dt.date\n",
    "    interval_df['Date'] = interval_df['DateTime'].dt.date\n",
    "    merged_df = pd.merge(interval_df, df, on='Date', how='left')\n",
    "    return merged_df"
   ]
  },
  {
   "cell_type": "code",
   "execution_count": 41,
   "metadata": {},
   "outputs": [],
   "source": [
    "VIX = expand_df(VIX_data)\n",
    "gold = expand_df(gold_data)\n",
    "treasury = expand_df(treasury_data)\n",
    "currency = expand_df(currency_data)"
   ]
  },
  {
   "cell_type": "code",
   "execution_count": 42,
   "metadata": {},
   "outputs": [
    {
     "data": {
      "text/html": [
       "<div>\n",
       "<style scoped>\n",
       "    .dataframe tbody tr th:only-of-type {\n",
       "        vertical-align: middle;\n",
       "    }\n",
       "\n",
       "    .dataframe tbody tr th {\n",
       "        vertical-align: top;\n",
       "    }\n",
       "\n",
       "    .dataframe thead th {\n",
       "        text-align: right;\n",
       "    }\n",
       "</style>\n",
       "<table border=\"1\" class=\"dataframe\">\n",
       "  <thead>\n",
       "    <tr style=\"text-align: right;\">\n",
       "      <th></th>\n",
       "      <th>Date</th>\n",
       "      <th>Open</th>\n",
       "      <th>High</th>\n",
       "      <th>Low</th>\n",
       "      <th>Close</th>\n",
       "      <th>Adj Close</th>\n",
       "      <th>Volume</th>\n",
       "    </tr>\n",
       "  </thead>\n",
       "  <tbody>\n",
       "    <tr>\n",
       "      <th>0</th>\n",
       "      <td>2022-11-21</td>\n",
       "      <td>24.049999</td>\n",
       "      <td>24.120001</td>\n",
       "      <td>22.299999</td>\n",
       "      <td>22.360001</td>\n",
       "      <td>22.360001</td>\n",
       "      <td>0.0</td>\n",
       "    </tr>\n",
       "    <tr>\n",
       "      <th>1</th>\n",
       "      <td>2022-11-22</td>\n",
       "      <td>22.590000</td>\n",
       "      <td>22.709999</td>\n",
       "      <td>21.280001</td>\n",
       "      <td>21.290001</td>\n",
       "      <td>21.290001</td>\n",
       "      <td>0.0</td>\n",
       "    </tr>\n",
       "    <tr>\n",
       "      <th>2</th>\n",
       "      <td>2022-11-23</td>\n",
       "      <td>21.490000</td>\n",
       "      <td>21.780001</td>\n",
       "      <td>20.320000</td>\n",
       "      <td>20.350000</td>\n",
       "      <td>20.350000</td>\n",
       "      <td>0.0</td>\n",
       "    </tr>\n",
       "    <tr>\n",
       "      <th>3</th>\n",
       "      <td>2022-11-24</td>\n",
       "      <td>NaN</td>\n",
       "      <td>NaN</td>\n",
       "      <td>NaN</td>\n",
       "      <td>NaN</td>\n",
       "      <td>NaN</td>\n",
       "      <td>NaN</td>\n",
       "    </tr>\n",
       "    <tr>\n",
       "      <th>4</th>\n",
       "      <td>2022-11-25</td>\n",
       "      <td>20.610001</td>\n",
       "      <td>21.110001</td>\n",
       "      <td>20.459999</td>\n",
       "      <td>20.500000</td>\n",
       "      <td>20.500000</td>\n",
       "      <td>0.0</td>\n",
       "    </tr>\n",
       "    <tr>\n",
       "      <th>...</th>\n",
       "      <td>...</td>\n",
       "      <td>...</td>\n",
       "      <td>...</td>\n",
       "      <td>...</td>\n",
       "      <td>...</td>\n",
       "      <td>...</td>\n",
       "      <td>...</td>\n",
       "    </tr>\n",
       "    <tr>\n",
       "      <th>247</th>\n",
       "      <td>2023-11-01</td>\n",
       "      <td>18.020000</td>\n",
       "      <td>18.420000</td>\n",
       "      <td>16.629999</td>\n",
       "      <td>16.870001</td>\n",
       "      <td>16.870001</td>\n",
       "      <td>0.0</td>\n",
       "    </tr>\n",
       "    <tr>\n",
       "      <th>248</th>\n",
       "      <td>2023-11-02</td>\n",
       "      <td>16.590000</td>\n",
       "      <td>16.620001</td>\n",
       "      <td>15.580000</td>\n",
       "      <td>15.660000</td>\n",
       "      <td>15.660000</td>\n",
       "      <td>0.0</td>\n",
       "    </tr>\n",
       "    <tr>\n",
       "      <th>249</th>\n",
       "      <td>2023-11-03</td>\n",
       "      <td>15.700000</td>\n",
       "      <td>15.830000</td>\n",
       "      <td>14.910000</td>\n",
       "      <td>14.910000</td>\n",
       "      <td>14.910000</td>\n",
       "      <td>0.0</td>\n",
       "    </tr>\n",
       "    <tr>\n",
       "      <th>250</th>\n",
       "      <td>2023-11-06</td>\n",
       "      <td>15.390000</td>\n",
       "      <td>15.580000</td>\n",
       "      <td>14.840000</td>\n",
       "      <td>14.890000</td>\n",
       "      <td>14.890000</td>\n",
       "      <td>0.0</td>\n",
       "    </tr>\n",
       "    <tr>\n",
       "      <th>251</th>\n",
       "      <td>2023-11-07</td>\n",
       "      <td>15.100000</td>\n",
       "      <td>15.170000</td>\n",
       "      <td>14.710000</td>\n",
       "      <td>14.810000</td>\n",
       "      <td>14.810000</td>\n",
       "      <td>0.0</td>\n",
       "    </tr>\n",
       "  </tbody>\n",
       "</table>\n",
       "<p>252 rows × 7 columns</p>\n",
       "</div>"
      ],
      "text/plain": [
       "           Date       Open       High        Low      Close  Adj Close  Volume\n",
       "0    2022-11-21  24.049999  24.120001  22.299999  22.360001  22.360001     0.0\n",
       "1    2022-11-22  22.590000  22.709999  21.280001  21.290001  21.290001     0.0\n",
       "2    2022-11-23  21.490000  21.780001  20.320000  20.350000  20.350000     0.0\n",
       "3    2022-11-24        NaN        NaN        NaN        NaN        NaN     NaN\n",
       "4    2022-11-25  20.610001  21.110001  20.459999  20.500000  20.500000     0.0\n",
       "..          ...        ...        ...        ...        ...        ...     ...\n",
       "247  2023-11-01  18.020000  18.420000  16.629999  16.870001  16.870001     0.0\n",
       "248  2023-11-02  16.590000  16.620001  15.580000  15.660000  15.660000     0.0\n",
       "249  2023-11-03  15.700000  15.830000  14.910000  14.910000  14.910000     0.0\n",
       "250  2023-11-06  15.390000  15.580000  14.840000  14.890000  14.890000     0.0\n",
       "251  2023-11-07  15.100000  15.170000  14.710000  14.810000  14.810000     0.0\n",
       "\n",
       "[252 rows x 7 columns]"
      ]
     },
     "execution_count": 42,
     "metadata": {},
     "output_type": "execute_result"
    }
   ],
   "source": [
    "VIX_data"
   ]
  },
  {
   "cell_type": "code",
   "execution_count": 43,
   "metadata": {},
   "outputs": [],
   "source": [
    "#1. Log Change\n",
    "VIX['VIX_Log_Change'] = np.log(VIX['Close'] / VIX['Close'].shift(1))\n",
    "\n",
    "#2. High-Low Spread\n",
    "VIX['VIX_High_Low_Spread'] = VIX['High'] - VIX['Low']\n",
    "VIX.to_csv('Filtered_Data/VIX.csv')"
   ]
  },
  {
   "cell_type": "code",
   "execution_count": 44,
   "metadata": {},
   "outputs": [],
   "source": [
    "#1. Log Change\n",
    "gold['GOLD_Log_Change'] = np.log(gold['Close'] / gold['Close'].shift(1))\n",
    "\n",
    "#2. High-Low Spread\n",
    "gold['GOLD_High_Low_Spread'] = gold['High'] - gold['Low']\n",
    "gold.to_csv('Filtered_data/GOLD.csv')"
   ]
  },
  {
   "cell_type": "code",
   "execution_count": 45,
   "metadata": {},
   "outputs": [],
   "source": [
    "#1. Log Change\n",
    "treasury['TREASURY_Log_Change'] = np.log(treasury['Close'] / treasury['Close'].shift(1))\n",
    "\n",
    "#2. High-Low Spread\n",
    "treasury['TREASURY_High_Low_Spread'] = treasury['High'] - treasury['Low']\n",
    "treasury.to_csv('Filtered_data/TREASURY.csv')"
   ]
  },
  {
   "cell_type": "code",
   "execution_count": 46,
   "metadata": {},
   "outputs": [],
   "source": [
    "#1. Log Change\n",
    "currency['CURRENCY_Log_Change'] = np.log(currency['Close'] / currency['Close'].shift(1))\n",
    "\n",
    "#2. High-Low Spread\n",
    "currency['CURRENCY_High_Low_Spread'] = currency['High'] - currency['Low']\n",
    "currency.to_csv('Filtered_data/CURRENCY.csv')"
   ]
  }
 ],
 "metadata": {
  "kernelspec": {
   "display_name": "Python 3",
   "language": "python",
   "name": "python3"
  },
  "language_info": {
   "codemirror_mode": {
    "name": "ipython",
    "version": 3
   },
   "file_extension": ".py",
   "mimetype": "text/x-python",
   "name": "python",
   "nbconvert_exporter": "python",
   "pygments_lexer": "ipython3",
   "version": "3.11.4"
  }
 },
 "nbformat": 4,
 "nbformat_minor": 2
}
