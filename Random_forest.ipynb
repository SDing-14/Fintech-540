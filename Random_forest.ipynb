{
 "cells": [
  {
   "cell_type": "code",
   "execution_count": 15,
   "metadata": {},
   "outputs": [],
   "source": [
    "import pandas as pd\n",
    "import numpy as np\n",
    "from sklearn.model_selection import train_test_split\n",
    "from sklearn.metrics import r2_score\n",
    "from sklearn.ensemble import RandomForestRegressor\n",
    "from sklearn.model_selection import GridSearchCV"
   ]
  },
  {
   "cell_type": "code",
   "execution_count": 16,
   "metadata": {},
   "outputs": [],
   "source": [
    "df = pd.read_csv('combined_dataset.csv')\n",
    "\n",
    "df.rename(columns={'Unnamed: 0': 'Local Date'}, inplace=True)\n",
    "df['Unnamed: 0'] = pd.to_datetime(df['Local Date'])\n",
    "df = df.sort_values(by='Local Date')\n",
    "\n",
    "# Assuming the dataset spans a considerable time range, we can pick a cut-off date\n",
    "# For example, if we want to use the last 20% of dates for testing, we can do the following:\n",
    "cut_off_index = int(len(df) * 0.8)\n",
    "cut_off_date = df.iloc[cut_off_index]['Local Date']\n",
    "\n",
    "# Splitting the data based on the cut-off date\n",
    "train_df = df[df['Local Date'] < cut_off_date]\n",
    "test_df = df[df['Local Date'] >= cut_off_date]\n",
    "\n",
    "# Preparing the feature (X) and target (y) variables\n",
    "X_train = train_df.drop(columns=['NASDAQ_Volatility', 'Local Date', 'Unnamed: 0']).values\n",
    "y_train = train_df['NASDAQ_Volatility'].values\n",
    "X_test = test_df.drop(columns=['NASDAQ_Volatility', 'Local Date', 'Unnamed: 0']).values\n",
    "y_test = test_df['NASDAQ_Volatility'].values\n"
   ]
  },
  {
   "cell_type": "code",
   "execution_count": 17,
   "metadata": {},
   "outputs": [
    {
     "name": "stdout",
     "output_type": "stream",
     "text": [
      "Fitting 3 folds for each of 9 candidates, totalling 27 fits\n",
      "[CV] END .....................max_depth=10, n_estimators=100; total time=  50.5s\n",
      "[CV] END .....................max_depth=10, n_estimators=100; total time=  50.7s\n",
      "[CV] END .....................max_depth=10, n_estimators=100; total time=  51.0s\n",
      "[CV] END .....................max_depth=20, n_estimators=100; total time= 1.0min\n",
      "[CV] END .....................max_depth=10, n_estimators=200; total time= 1.7min\n",
      "[CV] END .....................max_depth=10, n_estimators=200; total time= 1.7min\n",
      "[CV] END .....................max_depth=10, n_estimators=200; total time= 1.7min\n",
      "[CV] END .....................max_depth=20, n_estimators=100; total time=  59.3s\n",
      "[CV] END .....................max_depth=20, n_estimators=100; total time= 1.0min\n",
      "[CV] END .....................max_depth=10, n_estimators=300; total time= 2.5min\n",
      "[CV] END .....................max_depth=10, n_estimators=300; total time= 2.5min\n",
      "[CV] END .....................max_depth=10, n_estimators=300; total time= 2.5min\n",
      "[CV] END .....................max_depth=20, n_estimators=200; total time= 2.1min\n",
      "[CV] END .....................max_depth=30, n_estimators=100; total time= 1.0min\n",
      "[CV] END .....................max_depth=20, n_estimators=200; total time= 2.0min\n",
      "[CV] END .....................max_depth=30, n_estimators=100; total time=  59.2s\n",
      "[CV] END .....................max_depth=30, n_estimators=100; total time= 1.0min\n",
      "[CV] END .....................max_depth=20, n_estimators=200; total time= 2.0min\n",
      "[CV] END .....................max_depth=30, n_estimators=200; total time= 2.0min\n",
      "[CV] END .....................max_depth=20, n_estimators=300; total time= 3.0min\n",
      "[CV] END .....................max_depth=20, n_estimators=300; total time= 2.9min\n",
      "[CV] END .....................max_depth=20, n_estimators=300; total time= 3.1min\n",
      "[CV] END .....................max_depth=30, n_estimators=200; total time= 1.9min\n",
      "[CV] END .....................max_depth=30, n_estimators=200; total time= 2.0min\n",
      "[CV] END .....................max_depth=30, n_estimators=300; total time= 2.8min\n",
      "[CV] END .....................max_depth=30, n_estimators=300; total time= 2.6min\n",
      "[CV] END .....................max_depth=30, n_estimators=300; total time= 2.7min\n"
     ]
    },
    {
     "data": {
      "text/plain": [
       "{'max_depth': 30, 'n_estimators': 200}"
      ]
     },
     "execution_count": 17,
     "metadata": {},
     "output_type": "execute_result"
    }
   ],
   "source": [
    "param_grid = {\n",
    "    'n_estimators': [100, 200, 300],\n",
    "    'max_depth': [10, 20, 30],\n",
    "}\n",
    "\n",
    "# Initialize the grid search model\n",
    "grid_search = GridSearchCV(estimator=RandomForestRegressor(random_state=42), \n",
    "                           param_grid=param_grid, \n",
    "                           cv=3, \n",
    "                           n_jobs=-1, \n",
    "                           verbose=2)\n",
    "\n",
    "# Fit the grid search to the data\n",
    "grid_search.fit(X_train, y_train)\n",
    "\n",
    "# Get the best parameters\n",
    "best_params = grid_search.best_params_\n",
    "best_params"
   ]
  },
  {
   "cell_type": "code",
   "execution_count": 18,
   "metadata": {},
   "outputs": [],
   "source": [
    "y_pred = grid_search.predict(X_test)"
   ]
  },
  {
   "cell_type": "code",
   "execution_count": 19,
   "metadata": {},
   "outputs": [
    {
     "name": "stdout",
     "output_type": "stream",
     "text": [
      "R-squared on Test Set: -0.22822437555399988\n"
     ]
    }
   ],
   "source": [
    "r_squared = r2_score(y_test, y_pred)\n",
    "print(f'R-squared on Test Set: {r_squared}')\n"
   ]
  }
 ],
 "metadata": {
  "kernelspec": {
   "display_name": "Python 3",
   "language": "python",
   "name": "python3"
  },
  "language_info": {
   "codemirror_mode": {
    "name": "ipython",
    "version": 3
   },
   "file_extension": ".py",
   "mimetype": "text/x-python",
   "name": "python",
   "nbconvert_exporter": "python",
   "pygments_lexer": "ipython3",
   "version": "3.8.18"
  }
 },
 "nbformat": 4,
 "nbformat_minor": 2
}
