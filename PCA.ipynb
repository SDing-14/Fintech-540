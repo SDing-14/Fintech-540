{
 "cells": [
  {
   "cell_type": "markdown",
   "metadata": {},
   "source": [
    "1. Perform PCA to reduce dimention."
   ]
  },
  {
   "cell_type": "code",
   "execution_count": 5,
   "metadata": {},
   "outputs": [
    {
     "name": "stdout",
     "output_type": "stream",
     "text": [
      "Index([], dtype='object')\n",
      "    Principal Component  Explained Variance (%)              Top Feature\n",
      "0                     1               13.034579   HON_1hr_Moving_Average\n",
      "1                     2               10.391251              MSFT_Volume\n",
      "2                     3                8.772916              MSFT_Volume\n",
      "3                     4                5.316154     ARCA_TECH_Log_Change\n",
      "4                     5                3.940594               HON_Volume\n",
      "5                     6                3.019202     NFLX_High_Low_Spread\n",
      "6                     7                1.995048      PEP_High_Low_Spread\n",
      "7                     8                1.683801           PEP_Log_Change\n",
      "8                     9                1.622533      PEP_High_Low_Spread\n",
      "9                    10                1.309296  QCOM_1hr_Moving_Average\n",
      "10                   11                1.209988  QCOM_1hr_Moving_Average\n",
      "11                   12                1.113185           TXN_Log_Change\n",
      "12                   13                1.055997           PEP_Log_Change\n",
      "13                   14                1.033393     AMZN_High_Low_Spread\n",
      "14                   15                1.008733      OIL_High_Low_Spread\n",
      "15                   16                0.965125       BTC_Bid_ask_spread\n",
      "16                   17                0.929541       BTC_Bid_ask_spread\n",
      "17                   18                0.906386     TMUS_High_Low_Spread\n",
      "18                   19                0.885399     TSLA_High_Low_Spread\n",
      "19                   20                0.857353           BTC_Log_Change\n"
     ]
    }
   ],
   "source": [
    "from sklearn.decomposition import PCA\n",
    "from sklearn.preprocessing import StandardScaler\n",
    "import pandas as pd\n",
    "\n",
    "df = pd.read_csv('combined_dataset.csv')\n",
    "duplicate_columns = df.columns[df.columns.duplicated()]\n",
    "print(duplicate_columns)\n",
    "df.set_index(df.columns[0], inplace=True)\n",
    "\n",
    "pca = PCA(n_components=20)  # Choose the number of components to retain\n",
    "\n",
    "scaler = StandardScaler()\n",
    "X_scaled = scaler.fit_transform(df)\n",
    "X_pca = pca.fit_transform(X_scaled)\n",
    "\n",
    "\n",
    "explained_variance_ratio = pca.explained_variance_ratio_\n",
    "\n",
    "\n",
    "feature_names = df.columns\n",
    "\n",
    "\n",
    "component_df = pd.DataFrame({\n",
    "    'Principal Component': range(1, 21),  # Top 20 components\n",
    "    'Explained Variance (%)': explained_variance_ratio * 100,\n",
    "    'Top Feature': [feature_names[i] for i in pca.components_.argmax(axis=1)]\n",
    "})\n",
    "\n",
    "# Sort the DataFrame \n",
    "component_df = component_df.sort_values(by='Explained Variance (%)', ascending=False)\n",
    "\n",
    "\n",
    "print(component_df)\n"
   ]
  },
  {
   "cell_type": "markdown",
   "metadata": {},
   "source": [
    "2. Kernel PCA"
   ]
  },
  {
   "cell_type": "code",
   "execution_count": 7,
   "metadata": {},
   "outputs": [
    {
     "ename": "AttributeError",
     "evalue": "'KernelPCA' object has no attribute 'lambdas_'",
     "output_type": "error",
     "traceback": [
      "\u001b[0;31m---------------------------------------------------------------------------\u001b[0m",
      "\u001b[0;31mAttributeError\u001b[0m                            Traceback (most recent call last)",
      "Cell \u001b[0;32mIn[7], line 17\u001b[0m\n\u001b[1;32m     13\u001b[0m kernel_pca \u001b[39m=\u001b[39m KernelPCA(kernel\u001b[39m=\u001b[39m\u001b[39m'\u001b[39m\u001b[39mrbf\u001b[39m\u001b[39m'\u001b[39m, n_components\u001b[39m=\u001b[39m\u001b[39m20\u001b[39m)\n\u001b[1;32m     15\u001b[0m X_kernel_pca \u001b[39m=\u001b[39m kernel_pca\u001b[39m.\u001b[39mfit_transform(X_scaled)\n\u001b[0;32m---> 17\u001b[0m eigenvalues \u001b[39m=\u001b[39m kernel_pca\u001b[39m.\u001b[39;49mlambdas_\n\u001b[1;32m     19\u001b[0m explained_variance_ratio \u001b[39m=\u001b[39m eigenvalues \u001b[39m/\u001b[39m \u001b[39msum\u001b[39m(eigenvalues)\n\u001b[1;32m     21\u001b[0m component_df \u001b[39m=\u001b[39m pd\u001b[39m.\u001b[39mDataFrame({\n\u001b[1;32m     22\u001b[0m    \u001b[39m'\u001b[39m\u001b[39mPrincipal Component\u001b[39m\u001b[39m'\u001b[39m: \u001b[39mrange\u001b[39m(\u001b[39m1\u001b[39m, \u001b[39m21\u001b[39m),\n\u001b[1;32m     23\u001b[0m    \u001b[39m'\u001b[39m\u001b[39mExplained Variance (\u001b[39m\u001b[39m%\u001b[39m\u001b[39m)\u001b[39m\u001b[39m'\u001b[39m: explained_variance_ratio \u001b[39m*\u001b[39m \u001b[39m100\u001b[39m\n\u001b[1;32m     24\u001b[0m })\n",
      "\u001b[0;31mAttributeError\u001b[0m: 'KernelPCA' object has no attribute 'lambdas_'"
     ]
    }
   ],
   "source": [
    "from sklearn.decomposition import KernelPCA\n",
    "from sklearn.preprocessing import StandardScaler\n",
    "import pandas as pd\n",
    "\n",
    "df = pd.read_csv('combined_dataset.csv')\n",
    "\n",
    "df.set_index(df.columns[0], inplace=True)\n",
    "\n",
    "scaler = StandardScaler()\n",
    "X_scaled = scaler.fit_transform(df)\n",
    "\n",
    "\n",
    "kernel_pca = KernelPCA(kernel='rbf', n_components=20)\n",
    "\n",
    "X_kernel_pca = kernel_pca.fit_transform(X_scaled)\n",
    "\n"
   ]
  },
  {
   "cell_type": "code",
   "execution_count": 8,
   "metadata": {},
   "outputs": [
    {
     "name": "stdout",
     "output_type": "stream",
     "text": [
      "            PC2       PC3       PC4       PC5       PC6       PC7       PC8  \\\n",
      "0      0.403066  0.115145 -0.136943  0.005070  0.166762 -0.168858 -0.047630   \n",
      "1      0.389357  0.104842 -0.132768 -0.026808  0.162352 -0.179978 -0.020397   \n",
      "2      0.393383  0.073909 -0.018571 -0.137366  0.173892 -0.124665  0.003988   \n",
      "3      0.383349  0.093252 -0.193637  0.037441  0.168897 -0.133933 -0.101779   \n",
      "4      0.375542  0.098029 -0.155396  0.067775  0.145861 -0.198879 -0.045008   \n",
      "...         ...       ...       ...       ...       ...       ...       ...   \n",
      "19171 -0.177683 -0.362663  0.009187 -0.073580 -0.056669 -0.019140 -0.060366   \n",
      "19172 -0.257969 -0.240287  0.094091 -0.001138 -0.017960  0.100370 -0.105933   \n",
      "19173 -0.207952 -0.302087 -0.109680  0.204347 -0.026754  0.006444  0.005222   \n",
      "19174 -0.214391 -0.309656 -0.037333  0.035073 -0.020702  0.056591 -0.049995   \n",
      "19175 -0.101492 -0.439470 -0.102305 -0.010708 -0.086896 -0.161747 -0.022287   \n",
      "\n",
      "            PC9      PC10      PC11      PC12      PC13      PC14      PC15  \\\n",
      "0      0.022009 -0.115519  0.194103  0.047206  0.000441 -0.068668  0.030621   \n",
      "1      0.000045 -0.112980  0.249034  0.050427  0.018862 -0.072248  0.004392   \n",
      "2     -0.052165 -0.113047  0.179122  0.047760  0.079786 -0.116035 -0.003889   \n",
      "3      0.017300 -0.107528  0.201545  0.036502 -0.042752 -0.068418  0.051629   \n",
      "4      0.019625 -0.107608  0.229631  0.046921 -0.032351 -0.083976  0.043640   \n",
      "...         ...       ...       ...       ...       ...       ...       ...   \n",
      "19171 -0.037941 -0.005011  0.080805  0.013566 -0.035939 -0.030529  0.003900   \n",
      "19172 -0.044177 -0.036623  0.114017  0.074720 -0.036980  0.018644 -0.007229   \n",
      "19173 -0.080631 -0.020032  0.052952  0.072923  0.063289 -0.029840 -0.123279   \n",
      "19174 -0.069398 -0.023559  0.073079  0.064476 -0.004791 -0.017225 -0.009820   \n",
      "19175 -0.037341 -0.002520  0.012889 -0.013425  0.007018 -0.021223  0.013221   \n",
      "\n",
      "           PC16      PC17      PC18      PC19      PC20      PC21  \n",
      "0      0.080479  0.115001 -0.068091 -0.047309 -0.039935  0.036677  \n",
      "1      0.108316  0.108354 -0.050484  0.001261 -0.012962  0.014861  \n",
      "2      0.062437  0.135380 -0.051965 -0.101000 -0.029183 -0.029179  \n",
      "3      0.063275  0.093319 -0.100189 -0.072771 -0.054861  0.016028  \n",
      "4      0.047646  0.149761 -0.096706 -0.003169 -0.008682  0.056088  \n",
      "...         ...       ...       ...       ...       ...       ...  \n",
      "19171  0.050267  0.031946 -0.028862  0.083535 -0.005416 -0.029396  \n",
      "19172  0.204546 -0.019332 -0.063395  0.013158 -0.077255 -0.083811  \n",
      "19173  0.153725  0.034711 -0.016311  0.011331 -0.031086  0.001084  \n",
      "19174  0.160751  0.009711  0.004922  0.045226 -0.084427 -0.023263  \n",
      "19175  0.016063  0.018665  0.039133 -0.016989  0.018484  0.006465  \n",
      "\n",
      "[19176 rows x 20 columns]\n"
     ]
    }
   ],
   "source": [
    "# Converting the transformed data into a DataFrame\n",
    "X_kernel_pca_df = pd.DataFrame(X_kernel_pca, columns=[f'PC{i+1}' for i in range(1, 21)])\n",
    "\n",
    "# Printing the transformed data\n",
    "print(X_kernel_pca_df)\n"
   ]
  }
 ],
 "metadata": {
  "kernelspec": {
   "display_name": "Python 3",
   "language": "python",
   "name": "python3"
  },
  "language_info": {
   "codemirror_mode": {
    "name": "ipython",
    "version": 3
   },
   "file_extension": ".py",
   "mimetype": "text/x-python",
   "name": "python",
   "nbconvert_exporter": "python",
   "pygments_lexer": "ipython3",
   "version": "3.11.4"
  },
  "orig_nbformat": 4
 },
 "nbformat": 4,
 "nbformat_minor": 2
}
